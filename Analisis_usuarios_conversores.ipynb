{
 "cells": [
  {
   "cell_type": "markdown",
   "metadata": {},
   "source": [
    "# Análisis de los usuarios que realizaron conversiones"
   ]
  },
  {
   "cell_type": "code",
   "execution_count": 1,
   "metadata": {},
   "outputs": [],
   "source": [
    "import pandas as pd\n",
    "import numpy as np\n",
    "import seaborn as sns\n",
    "\n",
    "import matplotlib.pyplot as plt\n",
    "\n",
    "%matplotlib inline\n",
    "\n",
    "plt.style.use('default')\n",
    "plt.rcParams['figure.figsize'] = (13, 10)\n",
    "\n",
    "sns.set(style=\"whitegrid\")"
   ]
  },
  {
   "cell_type": "code",
   "execution_count": 30,
   "metadata": {},
   "outputs": [
    {
     "data": {
      "text/html": [
       "<script type=\"text/javascript\">window.PlotlyConfig = {MathJaxConfig: 'local'};</script><script type=\"text/javascript\">if (window.MathJax) {MathJax.Hub.Config({SVG: {font: \"STIX-Web\"}});}</script><script>requirejs.config({paths: { 'plotly': ['https://cdn.plot.ly/plotly-latest.min']},});if(!window._Plotly) {require(['plotly'],function(plotly) {window._Plotly=plotly;});}</script>"
      ],
      "text/vnd.plotly.v1+html": [
       "<script type=\"text/javascript\">window.PlotlyConfig = {MathJaxConfig: 'local'};</script><script type=\"text/javascript\">if (window.MathJax) {MathJax.Hub.Config({SVG: {font: \"STIX-Web\"}});}</script><script>requirejs.config({paths: { 'plotly': ['https://cdn.plot.ly/plotly-latest.min']},});if(!window._Plotly) {require(['plotly'],function(plotly) {window._Plotly=plotly;});}</script>"
      ]
     },
     "metadata": {},
     "output_type": "display_data"
    }
   ],
   "source": [
    "import plotly\n",
    "plotly.offline.init_notebook_mode(connected=True)\n",
    "import plotly.offline as py\n",
    "import plotly.graph_objs as go"
   ]
  },
  {
   "cell_type": "code",
   "execution_count": 3,
   "metadata": {},
   "outputs": [],
   "source": [
    "events_dtypes = {'event_id': 'category', 'ref_type': 'category', 'application_id': 'category',\n",
    "                  'device_countrycode': 'category', 'device_os_version': 'category',\n",
    "                   'device_brand' : 'category', 'device_model' : 'category', 'device_city': 'category', 'session_user_agent': 'category', 'user_agent': 'category', 'carrier': 'category',\n",
    "                   'device_os' : 'category', 'wifi': 'category', 'connection_type': 'category',\n",
    "                   'device_language': 'category'}\n",
    "\n",
    "events = pd.read_csv('events.csv', dtype = events_dtypes, low_memory=False)\n",
    "\n",
    "events[\"date\"] =  pd.to_datetime(events[\"date\"], errors = \"coerce\")"
   ]
  },
  {
   "cell_type": "code",
   "execution_count": 4,
   "metadata": {},
   "outputs": [],
   "source": [
    "installs_dtypes = {'application_id': 'category', 'ref_type': 'category', 'device_countrycode': 'category',\n",
    "                   'device_brand': 'category', 'device_model' : 'category', 'session_user_agent': 'category',\n",
    "                   'user_agent': 'category', 'kind': 'category', 'device_language': 'category'}\n",
    "\n",
    "installs = pd.read_csv('installs.csv')\n",
    "\n",
    "installs[\"created\"] =  pd.to_datetime(installs[\"created\"], errors = \"coerce\") #parseo de fechas\n",
    "\n",
    "installs.drop('attributed', axis = 1, inplace = True) #son todas false\n",
    "installs.drop('click_hash', axis = 1, inplace = True) #son todas NaN"
   ]
  },
  {
   "cell_type": "code",
   "execution_count": 5,
   "metadata": {},
   "outputs": [],
   "source": [
    "clicks_dtypes = {'advertiser_id': np.int8, 'action_id': np.float16, 'source_id': np.int8, 'country_code': 'category',\n",
    "                 'latitude': np.float16, 'longitude': np.float16, 'carrier_id': np.float16, 'brand': np.float16,\n",
    "                 'touchX': np.float16, 'touchY': np.float16}\n",
    "\n",
    "clicks = pd.read_csv('clicks.csv', dtype = clicks_dtypes)\n",
    "\n",
    "clicks.drop('action_id', axis = 1, inplace = True) #todos NaN\n",
    "clicks.drop('wifi_connection', axis = 1, inplace = True) #todos False\n",
    "\n",
    "clicks[\"created\"] =  pd.to_datetime(clicks[\"created\"], errors = \"coerce\") #parseo de fechas"
   ]
  },
  {
   "cell_type": "markdown",
   "metadata": {},
   "source": [
    "## Tipos de eventos con más ocurrencias por los usuarios que convirtieron"
   ]
  },
  {
   "cell_type": "code",
   "execution_count": 6,
   "metadata": {},
   "outputs": [],
   "source": [
    "dispositivos_con_conversiones = list(installs['ref_hash'])"
   ]
  },
  {
   "cell_type": "code",
   "execution_count": 7,
   "metadata": {},
   "outputs": [],
   "source": [
    "eventos_usuarios_activos = events.loc[events['ref_hash'].isin(dispositivos_con_conversiones)]"
   ]
  },
  {
   "cell_type": "code",
   "execution_count": 8,
   "metadata": {},
   "outputs": [
    {
     "data": {
      "text/plain": [
       "42474"
      ]
     },
     "execution_count": 8,
     "metadata": {},
     "output_type": "execute_result"
    }
   ],
   "source": [
    "len(eventos_usuarios_activos)"
   ]
  },
  {
   "cell_type": "code",
   "execution_count": 9,
   "metadata": {},
   "outputs": [],
   "source": [
    "eventos_usuarios_activos = eventos_usuarios_activos.dropna(subset=['kind'])"
   ]
  },
  {
   "cell_type": "code",
   "execution_count": 10,
   "metadata": {},
   "outputs": [],
   "source": [
    "eventos_usuarios_activos['cant'] = 1\n",
    "agrup_tipos_evento = eventos_usuarios_activos.groupby('kind').agg({'cant': 'sum'})"
   ]
  },
  {
   "cell_type": "code",
   "execution_count": 11,
   "metadata": {},
   "outputs": [],
   "source": [
    "agrup_tipos_evento = agrup_tipos_evento.sort_values(by = 'cant', ascending = False)"
   ]
  },
  {
   "cell_type": "code",
   "execution_count": 12,
   "metadata": {},
   "outputs": [],
   "source": [
    "agrup_tipos_evento_top20 = agrup_tipos_evento.head(20).reset_index()"
   ]
  },
  {
   "cell_type": "code",
   "execution_count": 13,
   "metadata": {},
   "outputs": [
    {
     "data": {
      "text/plain": [
       "Text(0, 0.5, 'Tipo de evento')"
      ]
     },
     "execution_count": 13,
     "metadata": {},
     "output_type": "execute_result"
    },
    {
     "data": {
      "image/png": "[encoded data removed]",
      "text/plain": [
       "<Figure size 432x288 with 1 Axes>"
      ]
     },
     "metadata": {
      "needs_background": "light"
     },
     "output_type": "display_data"
    }
   ],
   "source": [
    "graph = sns.barplot(x= agrup_tipos_evento_top20['cant'], y = agrup_tipos_evento_top20['kind'], orient='h', palette=\"hls\")\n",
    "graph.set_title(\"Los 20 tipos de evento con más ocurrencias entre los usuarios que convirtieron\", fontsize = 20)\n",
    "graph.set_xlabel(\"Cantidad de ocurrencias\", fontsize = 15)  #fontdict = font para cambiar la fuente\n",
    "graph.set_ylabel(\"Tipo de evento\", fontsize = 15)"
   ]
  },
  {
   "cell_type": "markdown",
   "metadata": {},
   "source": [
    "#### En promedio, ¿cuántos de ellos son atribuidos a Jampp? (no podemos realizar este análisis con los datos brindados)"
   ]
  },
  {
   "cell_type": "code",
   "execution_count": 14,
   "metadata": {},
   "outputs": [
    {
     "data": {
      "text/plain": [
       "Series([], Name: attributed, dtype: int64)"
      ]
     },
     "execution_count": 14,
     "metadata": {},
     "output_type": "execute_result"
    }
   ],
   "source": [
    "events.loc[events['kind'].isin(list(agrup_tipos_evento_top20.index)),['attributed']]['attributed'].value_counts()"
   ]
  },
  {
   "cell_type": "markdown",
   "metadata": {},
   "source": [
    "## ¿Cuáles fueron los 10 tipos de conversión que más usuarios atrayeron?"
   ]
  },
  {
   "cell_type": "code",
   "execution_count": 15,
   "metadata": {},
   "outputs": [],
   "source": [
    "installs['cant'] = 1\n",
    "kinds_group = installs.groupby('kind').agg({'cant':'count'})"
   ]
  },
  {
   "cell_type": "code",
   "execution_count": 16,
   "metadata": {},
   "outputs": [],
   "source": [
    "kinds_group_ordered = kinds_group.sort_values(by = 'cant', ascending = False).reset_index().loc[:10]"
   ]
  },
  {
   "cell_type": "code",
   "execution_count": 17,
   "metadata": {},
   "outputs": [
    {
     "data": {
      "text/plain": [
       "<Figure size 1080x720 with 0 Axes>"
      ]
     },
     "execution_count": 17,
     "metadata": {},
     "output_type": "execute_result"
    },
    {
     "data": {
      "text/plain": [
       "<Figure size 1080x720 with 0 Axes>"
      ]
     },
     "metadata": {},
     "output_type": "display_data"
    }
   ],
   "source": [
    "import seaborn as sns\n",
    "from matplotlib import pyplot as plt\n",
    "\n",
    "plt.figure(figsize=(15,10))"
   ]
  },
  {
   "cell_type": "code",
   "execution_count": 18,
   "metadata": {},
   "outputs": [],
   "source": [
    "kinds_group_ordered['kind'] = kinds_group_ordered['kind'].astype(str)"
   ]
  },
  {
   "cell_type": "code",
   "execution_count": 19,
   "metadata": {},
   "outputs": [
    {
     "data": {
      "text/plain": [
       "Text(0, 0.5, 'Tipo de conversión')"
      ]
     },
     "execution_count": 19,
     "metadata": {},
     "output_type": "execute_result"
    },
    {
     "data": {
      "image/png": "[encoded data removed]",
      "text/plain": [
       "<Figure size 432x288 with 1 Axes>"
      ]
     },
     "metadata": {
      "needs_background": "light"
     },
     "output_type": "display_data"
    }
   ],
   "source": [
    "plot = sns.barplot(x= kinds_group_ordered['cant'], y = kinds_group_ordered['kind'], orient='h', palette=\"hls\")\n",
    "plot.set_title(\"Los diez tipos de conversión que más usuarios atrayeron\", fontsize=15)\n",
    "plot.set_xlabel(\"Cantidad de ocurrencias\", fontsize=15)\n",
    "plot.set_ylabel(\"Tipo de conversión\", fontsize = 15)"
   ]
  },
  {
   "cell_type": "markdown",
   "metadata": {},
   "source": [
    "### Después de la instalación de una aplicación, ¿En qué medida utiliza el usuario la aplicación con el paso del tiempo?"
   ]
  },
  {
   "cell_type": "markdown",
   "metadata": {},
   "source": [
    "### ¿En cuántas subastas participó un usuario en las 24 horas previas a realizar una conversión? "
   ]
  },
  {
   "cell_type": "markdown",
   "metadata": {},
   "source": [
    "### ¿Cuántos usuarios convirtieron más de una vez? Entre los usuarios que convirtieron más de una vez, ¿Cuántos lo hicieron para distintas aplicaciones?"
   ]
  },
  {
   "cell_type": "code",
   "execution_count": 20,
   "metadata": {},
   "outputs": [],
   "source": [
    "installs['cant_instal'] = 1\n",
    "group_cant_instal = installs.groupby('ref_hash').agg({'cant_instal':'count'}).reset_index().copy()"
   ]
  },
  {
   "cell_type": "code",
   "execution_count": 21,
   "metadata": {},
   "outputs": [],
   "source": [
    "group_cant_instal['reinstalo'] = group_cant_instal['cant_instal'] > 1"
   ]
  },
  {
   "cell_type": "code",
   "execution_count": 22,
   "metadata": {},
   "outputs": [],
   "source": [
    "usuarios_multiple_conversiones = list(group_cant_instal.loc[group_cant_instal['reinstalo'] == True, 'ref_hash'])"
   ]
  },
  {
   "cell_type": "markdown",
   "metadata": {},
   "source": [
    "##### Ahora buscamos dentro de los usuarios que convirtieron más de una vez, los que lo hicieron para distintas aplicaciones"
   ]
  },
  {
   "cell_type": "code",
   "execution_count": 23,
   "metadata": {},
   "outputs": [],
   "source": [
    "usuarios_multiple_conversiones = installs.loc[installs['ref_hash'].isin(usuarios_multiple_conversiones)]\n",
    "#.groupby('ref_hash').agg({'application_id': 'nunique'})"
   ]
  },
  {
   "cell_type": "code",
   "execution_count": 24,
   "metadata": {},
   "outputs": [],
   "source": [
    "usuarios_multiple_conversiones = usuarios_multiple_conversiones.groupby('ref_hash').agg({'application_id': 'nunique'})"
   ]
  },
  {
   "cell_type": "code",
   "execution_count": 25,
   "metadata": {},
   "outputs": [],
   "source": [
    "usuarios_multiple_conversiones['instalo_dist_aplic'] = usuarios_multiple_conversiones['application_id'] > 1"
   ]
  },
  {
   "cell_type": "code",
   "execution_count": 26,
   "metadata": {},
   "outputs": [
    {
     "data": {
      "text/plain": [
       "False    359\n",
       "True      20\n",
       "Name: instalo_dist_aplic, dtype: int64"
      ]
     },
     "execution_count": 26,
     "metadata": {},
     "output_type": "execute_result"
    }
   ],
   "source": [
    "usuarios_multiple_conversiones[\"instalo_dist_aplic\"].value_counts()"
   ]
  },
  {
   "cell_type": "code",
   "execution_count": 31,
   "metadata": {},
   "outputs": [
    {
     "data": {
      "application/vnd.plotly.v1+json": {
       "config": {
        "linkText": "Export to plot.ly",
        "plotlyServerURL": "https://plot.ly",
        "showLink": false
       },
       "data": [
        {
         "hole": 0.5,
         "text": [
          "Una única vez",
          "Más de una vez"
         ],
         "textinfo": "percent+text",
         "textposition": "inside",
         "type": "pie",
         "uid": "0e6087c9-cde6-4a2f-8756-d5515502e325",
         "values": [
          2629,
          379
         ]
        }
       ],
       "layout": {
        "annotations": [
         {
          "font": {
           "size": 16
          },
          "showarrow": false,
          "text": "¿Cuantas veces<br>convierten los<br>usuarios?"
         }
        ],
        "showlegend": false,
        "title": {
         "text": "Re conversión de usuarios"
        }
       }
      },
      "text/html": [
       "<div id=\"b8ae30b4-5682-4b8f-85f6-2e7a5cf79094\" style=\"height: 525px; width: 100%;\" class=\"plotly-graph-div\"></div><script type=\"text/javascript\">require([\"plotly\"], function(Plotly) { window.PLOTLYENV=window.PLOTLYENV || {};window.PLOTLYENV.BASE_URL=\"https://plot.ly\";\n",
       "if (document.getElementById(\"b8ae30b4-5682-4b8f-85f6-2e7a5cf79094\")) {\n",
       "    Plotly.newPlot(\"b8ae30b4-5682-4b8f-85f6-2e7a5cf79094\", [{\"hole\": 0.5, \"text\": [\"Una \\u00fanica vez\", \"M\\u00e1s de una vez\"], \"textinfo\": \"percent+text\", \"textposition\": \"inside\", \"values\": [2629, 379], \"type\": \"pie\", \"uid\": \"d7d4c912-91a7-4c0f-855f-5da0d53e052e\"}], {\"annotations\": [{\"font\": {\"size\": 16}, \"showarrow\": false, \"text\": \"\\u00bfCuantas veces<br>convierten los<br>usuarios?\"}], \"showlegend\": false, \"title\": {\"text\": \"Re conversi\\u00f3n de usuarios\"}}, {\"showLink\": false, \"linkText\": \"Export to plot.ly\", \"plotlyServerURL\": \"https://plot.ly\"}); \n",
       "}\n",
       "});</script><script type=\"text/javascript\">window.addEventListener(\"resize\", function(){if (document.getElementById(\"b8ae30b4-5682-4b8f-85f6-2e7a5cf79094\")) {window._Plotly.Plots.resize(document.getElementById(\"b8ae30b4-5682-4b8f-85f6-2e7a5cf79094\"));};})</script>"
      ],
      "text/vnd.plotly.v1+html": [
       "<div id=\"b8ae30b4-5682-4b8f-85f6-2e7a5cf79094\" style=\"height: 525px; width: 100%;\" class=\"plotly-graph-div\"></div><script type=\"text/javascript\">require([\"plotly\"], function(Plotly) { window.PLOTLYENV=window.PLOTLYENV || {};window.PLOTLYENV.BASE_URL=\"https://plot.ly\";\n",
       "if (document.getElementById(\"b8ae30b4-5682-4b8f-85f6-2e7a5cf79094\")) {\n",
       "    Plotly.newPlot(\"b8ae30b4-5682-4b8f-85f6-2e7a5cf79094\", [{\"hole\": 0.5, \"text\": [\"Una \\u00fanica vez\", \"M\\u00e1s de una vez\"], \"textinfo\": \"percent+text\", \"textposition\": \"inside\", \"values\": [2629, 379], \"type\": \"pie\", \"uid\": \"d7d4c912-91a7-4c0f-855f-5da0d53e052e\"}], {\"annotations\": [{\"font\": {\"size\": 16}, \"showarrow\": false, \"text\": \"\\u00bfCuantas veces<br>convierten los<br>usuarios?\"}], \"showlegend\": false, \"title\": {\"text\": \"Re conversi\\u00f3n de usuarios\"}}, {\"showLink\": false, \"linkText\": \"Export to plot.ly\", \"plotlyServerURL\": \"https://plot.ly\"}); \n",
       "}\n",
       "});</script><script type=\"text/javascript\">window.addEventListener(\"resize\", function(){if (document.getElementById(\"b8ae30b4-5682-4b8f-85f6-2e7a5cf79094\")) {window._Plotly.Plots.resize(document.getElementById(\"b8ae30b4-5682-4b8f-85f6-2e7a5cf79094\"));};})</script>"
      ]
     },
     "metadata": {},
     "output_type": "display_data"
    }
   ],
   "source": [
    "fig = {\n",
    "  \"data\": [\n",
    "    {\n",
    "      \"values\": group_cant_instal['reinstalo'].value_counts(),\n",
    "      \"text\":[\"Una única vez\",\"Más de una vez\"],\n",
    "      \"textinfo\":'percent+text',\n",
    "      \"hole\": .5,\n",
    "      \"type\": \"pie\",\n",
    "    \"textposition\":\"inside\",\n",
    "    }],\n",
    "  \"layout\": {\n",
    "        \"title\":\"Re conversión de usuarios\",\n",
    "      \"showlegend\":False,\n",
    "        \"annotations\": [\n",
    "            {\n",
    "                \"font\": {\n",
    "                    \"size\": 16\n",
    "                },\n",
    "                \"showarrow\": False,\n",
    "                \"text\": \"¿Cuantas veces<br>convierten los<br>usuarios?\"\n",
    "            }\n",
    "        ]\n",
    "    }\n",
    "}\n",
    "py.offline.iplot(fig)"
   ]
  },
  {
   "cell_type": "code",
   "execution_count": 32,
   "metadata": {},
   "outputs": [
    {
     "data": {
      "application/vnd.plotly.v1+json": {
       "config": {
        "linkText": "Export to plot.ly",
        "plotlyServerURL": "https://plot.ly",
        "showLink": false
       },
       "data": [
        {
         "hole": 0.5,
         "text": [
          "La misma aplicación",
          "Otra aplicación"
         ],
         "textinfo": "percent+text",
         "textposition": "outside",
         "type": "pie",
         "uid": "6cc6d6d2-14d3-4198-99cf-70a71407f316",
         "values": [
          359,
          20
         ]
        }
       ],
       "layout": {
        "annotations": [
         {
          "font": {
           "size": 16
          },
          "showarrow": false,
          "text": "¿Reinstalan la<br>misma<br>aplicación?"
         }
        ],
        "showlegend": false,
        "title": {
         "text": "Aquellos que vuelven a instalar"
        }
       }
      },
      "text/html": [
       "<div id=\"c4add00f-c319-4ec3-a867-e779941c2bac\" style=\"height: 525px; width: 100%;\" class=\"plotly-graph-div\"></div><script type=\"text/javascript\">require([\"plotly\"], function(Plotly) { window.PLOTLYENV=window.PLOTLYENV || {};window.PLOTLYENV.BASE_URL=\"https://plot.ly\";\n",
       "if (document.getElementById(\"c4add00f-c319-4ec3-a867-e779941c2bac\")) {\n",
       "    Plotly.newPlot(\"c4add00f-c319-4ec3-a867-e779941c2bac\", [{\"hole\": 0.5, \"text\": [\"La misma aplicaci\\u00f3n\", \"Otra aplicaci\\u00f3n\"], \"textinfo\": \"percent+text\", \"textposition\": \"outside\", \"values\": [359, 20], \"type\": \"pie\", \"uid\": \"2c721a8c-625c-4b9d-811c-d5c876769a53\"}], {\"annotations\": [{\"font\": {\"size\": 16}, \"showarrow\": false, \"text\": \"\\u00bfReinstalan la<br>misma<br>aplicaci\\u00f3n?\"}], \"showlegend\": false, \"title\": {\"text\": \"Aquellos que vuelven a instalar\"}}, {\"showLink\": false, \"linkText\": \"Export to plot.ly\", \"plotlyServerURL\": \"https://plot.ly\"}); \n",
       "}\n",
       "});</script><script type=\"text/javascript\">window.addEventListener(\"resize\", function(){if (document.getElementById(\"c4add00f-c319-4ec3-a867-e779941c2bac\")) {window._Plotly.Plots.resize(document.getElementById(\"c4add00f-c319-4ec3-a867-e779941c2bac\"));};})</script>"
      ],
      "text/vnd.plotly.v1+html": [
       "<div id=\"c4add00f-c319-4ec3-a867-e779941c2bac\" style=\"height: 525px; width: 100%;\" class=\"plotly-graph-div\"></div><script type=\"text/javascript\">require([\"plotly\"], function(Plotly) { window.PLOTLYENV=window.PLOTLYENV || {};window.PLOTLYENV.BASE_URL=\"https://plot.ly\";\n",
       "if (document.getElementById(\"c4add00f-c319-4ec3-a867-e779941c2bac\")) {\n",
       "    Plotly.newPlot(\"c4add00f-c319-4ec3-a867-e779941c2bac\", [{\"hole\": 0.5, \"text\": [\"La misma aplicaci\\u00f3n\", \"Otra aplicaci\\u00f3n\"], \"textinfo\": \"percent+text\", \"textposition\": \"outside\", \"values\": [359, 20], \"type\": \"pie\", \"uid\": \"2c721a8c-625c-4b9d-811c-d5c876769a53\"}], {\"annotations\": [{\"font\": {\"size\": 16}, \"showarrow\": false, \"text\": \"\\u00bfReinstalan la<br>misma<br>aplicaci\\u00f3n?\"}], \"showlegend\": false, \"title\": {\"text\": \"Aquellos que vuelven a instalar\"}}, {\"showLink\": false, \"linkText\": \"Export to plot.ly\", \"plotlyServerURL\": \"https://plot.ly\"}); \n",
       "}\n",
       "});</script><script type=\"text/javascript\">window.addEventListener(\"resize\", function(){if (document.getElementById(\"c4add00f-c319-4ec3-a867-e779941c2bac\")) {window._Plotly.Plots.resize(document.getElementById(\"c4add00f-c319-4ec3-a867-e779941c2bac\"));};})</script>"
      ]
     },
     "metadata": {},
     "output_type": "display_data"
    }
   ],
   "source": [
    "fig = {\n",
    "  \"data\": [\n",
    "    {\n",
    "      \"values\": usuarios_multiple_conversiones[\"instalo_dist_aplic\"].value_counts(),\n",
    "      \"text\":[\"La misma aplicación\",\"Otra aplicación\"],\n",
    "      \"textinfo\":'percent+text',\n",
    "      \"hole\": .5,\n",
    "      \"type\": \"pie\",\n",
    "    \"textposition\":\"outside\",\n",
    "    }],\n",
    "  \"layout\": {\n",
    "      #\"colorway\":[\"red\",\"blue\"],\n",
    "        \"title\":\"Aquellos que vuelven a instalar\",\n",
    "      \"showlegend\":False,\n",
    "        \"annotations\": [\n",
    "            {\n",
    "                \"font\": {\n",
    "                    \"size\": 16\n",
    "                },\n",
    "                \"showarrow\": False,\n",
    "                \"text\": \"¿Reinstalan la<br>misma<br>aplicación?\"\n",
    "            }\n",
    "        ]\n",
    "    }\n",
    "}\n",
    "py.offline.iplot(fig)"
   ]
  },
  {
   "cell_type": "code",
   "execution_count": null,
   "metadata": {},
   "outputs": [],
   "source": []
  }
 ],
 "metadata": {
  "kernelspec": {
   "display_name": "Python 3",
   "language": "python",
   "name": "python3"
  },
  "language_info": {
   "codemirror_mode": {
    "name": "ipython",
    "version": 3
   },
   "file_extension": ".py",
   "mimetype": "text/x-python",
   "name": "python",
   "nbconvert_exporter": "python",
   "pygments_lexer": "ipython3",
   "version": "3.7.1"
  }
 },
 "nbformat": 4,
 "nbformat_minor": 2
}
