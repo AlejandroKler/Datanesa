{
 "cells": [
  {
   "cell_type": "markdown",
   "metadata": {},
   "source": [
    "## Análisis de las aplicaciones y sus conversiones"
   ]
  },
  {
   "cell_type": "code",
   "execution_count": 1,
   "metadata": {},
   "outputs": [],
   "source": [
    "import pandas as pd\n",
    "import numpy as np\n",
    "\n",
    "installs_dtypes = {'ref_type': 'category', 'device_countrycode': 'category',\n",
    "                   'device_brand': 'category', 'device_model' : 'category', 'session_user_agent': 'category',\n",
    "                   'user_agent': 'category', 'kind': 'category', 'device_language': 'category'}\n",
    "\n",
    "installs = pd.read_csv('installs.csv', dtype = installs_dtypes)\n",
    "\n",
    "installs[\"created\"] =  pd.to_datetime(installs[\"created\"], errors = \"coerce\") #parseo de fechas"
   ]
  },
  {
   "cell_type": "code",
   "execution_count": 2,
   "metadata": {},
   "outputs": [],
   "source": [
    "installs['cant_installs'] = 1"
   ]
  },
  {
   "cell_type": "code",
   "execution_count": 4,
   "metadata": {},
   "outputs": [
    {
     "data": {
      "text/plain": [
       "Text(0.5, 1.0, 'Las aplicaciones y su cantidad de instalaciones del 5 al 13 de Marzo')"
      ]
     },
     "execution_count": 4,
     "metadata": {},
     "output_type": "execute_result"
    },
    {
     "data": {
      "image/png": "[encoded data removed]",
      "text/plain": [
       "<Figure size 1008x720 with 1 Axes>"
      ]
     },
     "metadata": {
      "needs_background": "light"
     },
     "output_type": "display_data"
    }
   ],
   "source": [
    "plot = installs.groupby('application_id').agg({'cant_installs': 'count'}).plot(kind = 'bar', figsize = (14,10), legend = False)\n",
    "plot.set_ylabel(\"Cantidad de instalaciones\")\n",
    "plot.set_xlabel(\"Id de la aplicación\")\n",
    "plot.set_title(\"Las aplicaciones y su cantidad de instalaciones del 5 al 13 de Marzo\")"
   ]
  },
  {
   "cell_type": "markdown",
   "metadata": {},
   "source": [
    "### ¿Cuáles fueron las aplicaciones con más instalaciones por hora?"
   ]
  },
  {
   "cell_type": "code",
   "execution_count": 5,
   "metadata": {},
   "outputs": [],
   "source": [
    "installs['hora'] = installs['created'].dt.hour"
   ]
  },
  {
   "cell_type": "code",
   "execution_count": 6,
   "metadata": {},
   "outputs": [],
   "source": [
    "installs_group = installs.groupby(['hora','application_id']).agg({'cant_installs':'count'})"
   ]
  },
  {
   "cell_type": "code",
   "execution_count": 7,
   "metadata": {},
   "outputs": [],
   "source": [
    "max_installs_hora = installs_group.sort_values(by = 'cant_installs', ascending = False).groupby(level = 0).head(1)\\\n",
    ".sort_values(by = 'hora', ascending = True).reset_index()"
   ]
  },
  {
   "cell_type": "code",
   "execution_count": 17,
   "metadata": {},
   "outputs": [
    {
     "data": {
      "text/html": [
       "<div>\n",
       "<style scoped>\n",
       "    .dataframe tbody tr th:only-of-type {\n",
       "        vertical-align: middle;\n",
       "    }\n",
       "\n",
       "    .dataframe tbody tr th {\n",
       "        vertical-align: top;\n",
       "    }\n",
       "\n",
       "    .dataframe thead th {\n",
       "        text-align: right;\n",
       "    }\n",
       "</style>\n",
       "<table border=\"1\" class=\"dataframe\">\n",
       "  <thead>\n",
       "    <tr style=\"text-align: right;\">\n",
       "      <th></th>\n",
       "      <th>y</th>\n",
       "      <th>x</th>\n",
       "      <th>label</th>\n",
       "    </tr>\n",
       "  </thead>\n",
       "  <tbody>\n",
       "    <tr>\n",
       "      <th>0</th>\n",
       "      <td>10</td>\n",
       "      <td>0</td>\n",
       "      <td>Ugly</td>\n",
       "    </tr>\n",
       "    <tr>\n",
       "      <th>1</th>\n",
       "      <td>12</td>\n",
       "      <td>1</td>\n",
       "      <td>Ugly</td>\n",
       "    </tr>\n",
       "    <tr>\n",
       "      <th>2</th>\n",
       "      <td>15</td>\n",
       "      <td>2</td>\n",
       "      <td>Ugly</td>\n",
       "    </tr>\n",
       "    <tr>\n",
       "      <th>3</th>\n",
       "      <td>19</td>\n",
       "      <td>3</td>\n",
       "      <td>Ugly</td>\n",
       "    </tr>\n",
       "    <tr>\n",
       "      <th>4</th>\n",
       "      <td>25</td>\n",
       "      <td>4</td>\n",
       "      <td>Ugly</td>\n",
       "    </tr>\n",
       "  </tbody>\n",
       "</table>\n",
       "</div>"
      ],
      "text/plain": [
       "    y  x label\n",
       "0  10  0  Ugly\n",
       "1  12  1  Ugly\n",
       "2  15  2  Ugly\n",
       "3  19  3  Ugly\n",
       "4  25  4  Ugly"
      ]
     },
     "execution_count": 17,
     "metadata": {},
     "output_type": "execute_result"
    }
   ],
   "source": [
    "# imports\n",
    "import plotly.graph_objs as go\n",
    "import numpy as np\n",
    "import pandas as pd\n",
    "\n",
    "# Define bar properties\n",
    "bar_heights = [10, 12, 15, 19, 25, 28, 31, 33, 43, 50, 64, 72, 88, 105]\n",
    "bins = [0, 25, 40, 80, 200]\n",
    "labels = ['Ugly', 'Bad', 'Good', 'Great']\n",
    "\n",
    "colors = {'Ugly': 'red',\n",
    "          'Bad': 'orange',\n",
    "          'Good': 'lightgreen',\n",
    "          'Great': 'darkgreen'}\n",
    "\n",
    "# Build dataframe\n",
    "df = pd.DataFrame({'y': bar_heights,\n",
    "                   'x': range(len(bar_heights)),\n",
    "                   'label': pd.cut(bar_heights, bins=bins, labels=labels)})\n",
    "df.head()"
   ]
  },
  {
   "cell_type": "code",
   "execution_count": null,
   "metadata": {},
   "outputs": [],
   "source": [
    "fig"
   ]
  }
 ],
 "metadata": {
  "kernelspec": {
   "display_name": "Python 3",
   "language": "python",
   "name": "python3"
  },
  "language_info": {
   "codemirror_mode": {
    "name": "ipython",
    "version": 3
   },
   "file_extension": ".py",
   "mimetype": "text/x-python",
   "name": "python",
   "nbconvert_exporter": "python",
   "pygments_lexer": "ipython3",
   "version": "3.7.1"
  }
 },
 "nbformat": 4,
 "nbformat_minor": 2
}
