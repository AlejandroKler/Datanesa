{
 "cells": [
  {
   "cell_type": "markdown",
   "metadata": {},
   "source": [
    "## Análisis de la relación"
   ]
  },
  {
   "cell_type": "code",
   "execution_count": 7,
   "metadata": {},
   "outputs": [],
   "source": [
    "installs_dtypes = {'application_id': 'category', 'ref_type': 'category', 'device_countrycode': 'category',\n",
    "                   'device_brand': 'category', 'device_model' : 'category', 'session_user_agent': 'category',\n",
    "                   'user_agent': 'category', 'kind': 'category', 'device_language': 'category'}\n",
    "\n",
    "installs = pd.read_csv('installs.csv', dtype = installs_dtypes)\n",
    "\n",
    "installs[\"created\"] =  pd.to_datetime(installs[\"created\"], errors = \"coerce\") #parseo de fechas"
   ]
  },
  {
   "cell_type": "code",
   "execution_count": 8,
   "metadata": {},
   "outputs": [
    {
     "data": {
      "text/plain": [
       "False    3412\n",
       "Name: attributed, dtype: int64"
      ]
     },
     "execution_count": 8,
     "metadata": {},
     "output_type": "execute_result"
    }
   ],
   "source": [
    "installs['attributed'].value_counts()"
   ]
  },
  {
   "cell_type": "code",
   "execution_count": 2,
   "metadata": {},
   "outputs": [],
   "source": [
    "import pandas as pd\n",
    "import numpy as np"
   ]
  },
  {
   "cell_type": "code",
   "execution_count": 3,
   "metadata": {},
   "outputs": [],
   "source": [
    "events_dtypes = {'event_id': 'category', 'ref_type': 'category', 'ref_hash': 'category', 'application_id': 'category',\n",
    "                   'attributed': 'category', 'device_countrycode': 'category', 'device_os_version': 'category',\n",
    "                   'device_brand' : 'category', 'device_model' : 'category', 'device_city': 'category', 'session_user_agent': 'category', 'user_agent': 'category', 'carrier': 'category',\n",
    "                   'kind': 'category', 'device_os' : 'category', 'wifi': 'category', 'connection_type': 'category',\n",
    "                   'device_language': 'category'}\n",
    "\n",
    "events = pd.read_csv('events.csv', dtype = events_dtypes, low_memory=False)\n",
    "\n",
    "events[\"date\"] =  pd.to_datetime(events[\"date\"], errors = \"coerce\")"
   ]
  }
 ],
 "metadata": {
  "kernelspec": {
   "display_name": "Python 3",
   "language": "python",
   "name": "python3"
  },
  "language_info": {
   "codemirror_mode": {
    "name": "ipython",
    "version": 3
   },
   "file_extension": ".py",
   "mimetype": "text/x-python",
   "name": "python",
   "nbconvert_exporter": "python",
   "pygments_lexer": "ipython3",
   "version": "3.7.1"
  }
 },
 "nbformat": 4,
 "nbformat_minor": 2
}
