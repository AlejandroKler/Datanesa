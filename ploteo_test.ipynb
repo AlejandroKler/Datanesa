{
 "cells": [
  {
   "cell_type": "code",
   "execution_count": 4,
   "metadata": {},
   "outputs": [],
   "source": [
    "import pandas as pd\n",
    "import numpy as np\n",
    "auctions_dtypes = {'auction_type_id': np.float16, 'country': 'category', 'platform': 'category',\n",
    "                   'ref_type_id': 'category', 'source_id': 'category', 'device_id': 'category'}\n",
    "auctions = pd.read_csv('auctions.csv.gzip', compression = 'gzip', dtype = auctions_dtypes)"
   ]
  },
  {
   "cell_type": "code",
   "execution_count": 5,
   "metadata": {},
   "outputs": [],
   "source": [
    "auctions.drop('auction_type_id', axis = 1, inplace = True)"
   ]
  },
  {
   "cell_type": "code",
   "execution_count": 6,
   "metadata": {},
   "outputs": [],
   "source": [
    "auctions[\"date\"] =  pd.to_datetime(auctions[\"date\"], errors = \"coerce\")"
   ]
  },
  {
   "cell_type": "code",
   "execution_count": 7,
   "metadata": {},
   "outputs": [
    {
     "data": {
      "text/html": [
       "<div>\n",
       "<style scoped>\n",
       "    .dataframe tbody tr th:only-of-type {\n",
       "        vertical-align: middle;\n",
       "    }\n",
       "\n",
       "    .dataframe tbody tr th {\n",
       "        vertical-align: top;\n",
       "    }\n",
       "\n",
       "    .dataframe thead th {\n",
       "        text-align: right;\n",
       "    }\n",
       "</style>\n",
       "<table border=\"1\" class=\"dataframe\">\n",
       "  <thead>\n",
       "    <tr style=\"text-align: right;\">\n",
       "      <th></th>\n",
       "      <th>country</th>\n",
       "      <th>date</th>\n",
       "      <th>device_id</th>\n",
       "      <th>platform</th>\n",
       "      <th>ref_type_id</th>\n",
       "      <th>source_id</th>\n",
       "    </tr>\n",
       "  </thead>\n",
       "  <tbody>\n",
       "    <tr>\n",
       "      <th>0</th>\n",
       "      <td>6333597102633388268</td>\n",
       "      <td>2019-03-11 14:18:33.290763</td>\n",
       "      <td>6059599345986491085</td>\n",
       "      <td>1</td>\n",
       "      <td>1</td>\n",
       "      <td>0</td>\n",
       "    </tr>\n",
       "    <tr>\n",
       "      <th>1</th>\n",
       "      <td>6333597102633388268</td>\n",
       "      <td>2019-03-11 14:18:34.440157</td>\n",
       "      <td>1115994996230693426</td>\n",
       "      <td>1</td>\n",
       "      <td>1</td>\n",
       "      <td>0</td>\n",
       "    </tr>\n",
       "    <tr>\n",
       "      <th>2</th>\n",
       "      <td>6333597102633388268</td>\n",
       "      <td>2019-03-11 14:18:35.862360</td>\n",
       "      <td>7463856250762200923</td>\n",
       "      <td>1</td>\n",
       "      <td>1</td>\n",
       "      <td>0</td>\n",
       "    </tr>\n",
       "    <tr>\n",
       "      <th>3</th>\n",
       "      <td>6333597102633388268</td>\n",
       "      <td>2019-03-11 14:18:36.167163</td>\n",
       "      <td>7829815350267792040</td>\n",
       "      <td>1</td>\n",
       "      <td>1</td>\n",
       "      <td>0</td>\n",
       "    </tr>\n",
       "    <tr>\n",
       "      <th>4</th>\n",
       "      <td>6333597102633388268</td>\n",
       "      <td>2019-03-11 14:18:37.728590</td>\n",
       "      <td>1448534231953777480</td>\n",
       "      <td>1</td>\n",
       "      <td>1</td>\n",
       "      <td>0</td>\n",
       "    </tr>\n",
       "  </tbody>\n",
       "</table>\n",
       "</div>"
      ],
      "text/plain": [
       "               country                       date            device_id  \\\n",
       "0  6333597102633388268 2019-03-11 14:18:33.290763  6059599345986491085   \n",
       "1  6333597102633388268 2019-03-11 14:18:34.440157  1115994996230693426   \n",
       "2  6333597102633388268 2019-03-11 14:18:35.862360  7463856250762200923   \n",
       "3  6333597102633388268 2019-03-11 14:18:36.167163  7829815350267792040   \n",
       "4  6333597102633388268 2019-03-11 14:18:37.728590  1448534231953777480   \n",
       "\n",
       "  platform ref_type_id source_id  \n",
       "0        1           1         0  \n",
       "1        1           1         0  \n",
       "2        1           1         0  \n",
       "3        1           1         0  \n",
       "4        1           1         0  "
      ]
     },
     "execution_count": 7,
     "metadata": {},
     "output_type": "execute_result"
    }
   ],
   "source": [
    "auctions.head()"
   ]
  },
  {
   "cell_type": "code",
   "execution_count": 8,
   "metadata": {},
   "outputs": [
    {
     "data": {
      "text/plain": [
       "country              category\n",
       "date           datetime64[ns]\n",
       "device_id            category\n",
       "platform             category\n",
       "ref_type_id          category\n",
       "source_id            category\n",
       "dtype: object"
      ]
     },
     "execution_count": 8,
     "metadata": {},
     "output_type": "execute_result"
    }
   ],
   "source": [
    "auctions.dtypes"
   ]
  },
  {
   "cell_type": "code",
   "execution_count": 10,
   "metadata": {},
   "outputs": [],
   "source": [
    "clicks_dtypes = {'advertiser': np.int8, 'action_id': np.float16, 'source_id': np.int8, 'country_code': 'category',\n",
    "                 'latitude': np.float16, 'longitude': np.float16, 'carrier_id': np.float16, 'brand': np.float16,\n",
    "                 'touchX': np.float16, 'touchY': np.float16}\n",
    "clicks = pd.read_csv('clicks.csv.gzip', compression = 'gzip', dtype = clicks_dtypes)"
   ]
  },
  {
   "cell_type": "code",
   "execution_count": 12,
   "metadata": {},
   "outputs": [],
   "source": [
    "clicks[\"created\"] =  pd.to_datetime(clicks[\"created\"])"
   ]
  },
  {
   "cell_type": "code",
   "execution_count": 13,
   "metadata": {},
   "outputs": [],
   "source": [
    "clicks[\"hora\"] = clicks[\"created\"].dt.hour\n",
    "clicks[\"click_count\"] = 1"
   ]
  },
  {
   "cell_type": "code",
   "execution_count": 14,
   "metadata": {},
   "outputs": [
    {
     "data": {
      "text/html": [
       "<div>\n",
       "<style scoped>\n",
       "    .dataframe tbody tr th:only-of-type {\n",
       "        vertical-align: middle;\n",
       "    }\n",
       "\n",
       "    .dataframe tbody tr th {\n",
       "        vertical-align: top;\n",
       "    }\n",
       "\n",
       "    .dataframe thead th {\n",
       "        text-align: right;\n",
       "    }\n",
       "</style>\n",
       "<table border=\"1\" class=\"dataframe\">\n",
       "  <thead>\n",
       "    <tr style=\"text-align: right;\">\n",
       "      <th></th>\n",
       "      <th>click_count</th>\n",
       "    </tr>\n",
       "    <tr>\n",
       "      <th>hora</th>\n",
       "      <th></th>\n",
       "    </tr>\n",
       "  </thead>\n",
       "  <tbody>\n",
       "    <tr>\n",
       "      <th>0</th>\n",
       "      <td>440</td>\n",
       "    </tr>\n",
       "    <tr>\n",
       "      <th>1</th>\n",
       "      <td>4209</td>\n",
       "    </tr>\n",
       "    <tr>\n",
       "      <th>2</th>\n",
       "      <td>2327</td>\n",
       "    </tr>\n",
       "    <tr>\n",
       "      <th>3</th>\n",
       "      <td>754</td>\n",
       "    </tr>\n",
       "    <tr>\n",
       "      <th>4</th>\n",
       "      <td>1079</td>\n",
       "    </tr>\n",
       "    <tr>\n",
       "      <th>5</th>\n",
       "      <td>945</td>\n",
       "    </tr>\n",
       "    <tr>\n",
       "      <th>6</th>\n",
       "      <td>678</td>\n",
       "    </tr>\n",
       "    <tr>\n",
       "      <th>7</th>\n",
       "      <td>518</td>\n",
       "    </tr>\n",
       "    <tr>\n",
       "      <th>8</th>\n",
       "      <td>537</td>\n",
       "    </tr>\n",
       "    <tr>\n",
       "      <th>9</th>\n",
       "      <td>754</td>\n",
       "    </tr>\n",
       "    <tr>\n",
       "      <th>10</th>\n",
       "      <td>1143</td>\n",
       "    </tr>\n",
       "    <tr>\n",
       "      <th>11</th>\n",
       "      <td>1455</td>\n",
       "    </tr>\n",
       "    <tr>\n",
       "      <th>12</th>\n",
       "      <td>1199</td>\n",
       "    </tr>\n",
       "    <tr>\n",
       "      <th>13</th>\n",
       "      <td>926</td>\n",
       "    </tr>\n",
       "    <tr>\n",
       "      <th>14</th>\n",
       "      <td>834</td>\n",
       "    </tr>\n",
       "    <tr>\n",
       "      <th>15</th>\n",
       "      <td>959</td>\n",
       "    </tr>\n",
       "    <tr>\n",
       "      <th>16</th>\n",
       "      <td>966</td>\n",
       "    </tr>\n",
       "    <tr>\n",
       "      <th>17</th>\n",
       "      <td>641</td>\n",
       "    </tr>\n",
       "    <tr>\n",
       "      <th>18</th>\n",
       "      <td>655</td>\n",
       "    </tr>\n",
       "    <tr>\n",
       "      <th>19</th>\n",
       "      <td>380</td>\n",
       "    </tr>\n",
       "    <tr>\n",
       "      <th>20</th>\n",
       "      <td>389</td>\n",
       "    </tr>\n",
       "    <tr>\n",
       "      <th>21</th>\n",
       "      <td>451</td>\n",
       "    </tr>\n",
       "    <tr>\n",
       "      <th>22</th>\n",
       "      <td>1386</td>\n",
       "    </tr>\n",
       "    <tr>\n",
       "      <th>23</th>\n",
       "      <td>2726</td>\n",
       "    </tr>\n",
       "  </tbody>\n",
       "</table>\n",
       "</div>"
      ],
      "text/plain": [
       "      click_count\n",
       "hora             \n",
       "0             440\n",
       "1            4209\n",
       "2            2327\n",
       "3             754\n",
       "4            1079\n",
       "5             945\n",
       "6             678\n",
       "7             518\n",
       "8             537\n",
       "9             754\n",
       "10           1143\n",
       "11           1455\n",
       "12           1199\n",
       "13            926\n",
       "14            834\n",
       "15            959\n",
       "16            966\n",
       "17            641\n",
       "18            655\n",
       "19            380\n",
       "20            389\n",
       "21            451\n",
       "22           1386\n",
       "23           2726"
      ]
     },
     "execution_count": 14,
     "metadata": {},
     "output_type": "execute_result"
    }
   ],
   "source": [
    "clicks.groupby(by=\"hora\").agg({\"click_count\":\"count\"})"
   ]
  },
  {
   "cell_type": "code",
   "execution_count": 19,
   "metadata": {},
   "outputs": [],
   "source": [
    "auctions[\"hora\"] = auctions[\"date\"].dt.hour\n",
    "auctions[\"auction_count\"] = 1"
   ]
  },
  {
   "cell_type": "code",
   "execution_count": 20,
   "metadata": {},
   "outputs": [],
   "source": [
    "auc_x_hora = auctions.groupby(by=\"hora\").agg({\"auction_count\":\"count\"})\n",
    "clicks_x_hora = clicks.groupby(by=\"hora\").agg({\"click_count\":\"count\"})"
   ]
  },
  {
   "cell_type": "code",
   "execution_count": 21,
   "metadata": {},
   "outputs": [],
   "source": [
    "join_por_hora = auc_x_hora.join(clicks_x_hora)"
   ]
  },
  {
   "cell_type": "code",
   "execution_count": 24,
   "metadata": {},
   "outputs": [],
   "source": [
    "join_por_hora[\"porcentaje\"] =  join_por_hora[\"click_count\"] * 100 / join_por_hora[\"auction_count\"]"
   ]
  },
  {
   "cell_type": "code",
   "execution_count": 29,
   "metadata": {
    "scrolled": false
   },
   "outputs": [
    {
     "data": {
      "text/plain": [
       "<matplotlib.axes._subplots.AxesSubplot at 0x193009988d0>"
      ]
     },
     "execution_count": 29,
     "metadata": {},
     "output_type": "execute_result"
    },
    {
     "data": {
      "image/png": "[encoded data removed]",
      "text/plain": [
       "<Figure size 1080x720 with 1 Axes>"
      ]
     },
     "metadata": {
      "needs_background": "light"
     },
     "output_type": "display_data"
    }
   ],
   "source": [
    "ax = join_por_hora[\"porcentaje\"].plot(kind=\"bar\",figsize=(15,10),fontsize=15 , title=\"Porcentaje clicks por subasta según hora del día\")\n",
    "ax.set_xlabel(\"Hora del día\")\n",
    "ax.set_ylabel(\"Porcentaje de clicks segun cantidad de subastas\")\n",
    "ax"
   ]
  },
  {
   "cell_type": "code",
   "execution_count": 31,
   "metadata": {},
   "outputs": [
    {
     "data": {
      "text/html": [
       "<div>\n",
       "<style scoped>\n",
       "    .dataframe tbody tr th:only-of-type {\n",
       "        vertical-align: middle;\n",
       "    }\n",
       "\n",
       "    .dataframe tbody tr th {\n",
       "        vertical-align: top;\n",
       "    }\n",
       "\n",
       "    .dataframe thead th {\n",
       "        text-align: right;\n",
       "    }\n",
       "</style>\n",
       "<table border=\"1\" class=\"dataframe\">\n",
       "  <thead>\n",
       "    <tr style=\"text-align: right;\">\n",
       "      <th></th>\n",
       "      <th>country</th>\n",
       "      <th>date</th>\n",
       "      <th>device_id</th>\n",
       "      <th>platform</th>\n",
       "      <th>ref_type_id</th>\n",
       "      <th>source_id</th>\n",
       "      <th>hora</th>\n",
       "      <th>auction_count</th>\n",
       "    </tr>\n",
       "  </thead>\n",
       "  <tbody>\n",
       "    <tr>\n",
       "      <th>0</th>\n",
       "      <td>6333597102633388268</td>\n",
       "      <td>2019-03-11 14:18:33.290763</td>\n",
       "      <td>6059599345986491085</td>\n",
       "      <td>1</td>\n",
       "      <td>1</td>\n",
       "      <td>0</td>\n",
       "      <td>14</td>\n",
       "      <td>1</td>\n",
       "    </tr>\n",
       "  </tbody>\n",
       "</table>\n",
       "</div>"
      ],
      "text/plain": [
       "               country                       date            device_id  \\\n",
       "0  6333597102633388268 2019-03-11 14:18:33.290763  6059599345986491085   \n",
       "\n",
       "  platform ref_type_id source_id  hora  auction_count  \n",
       "0        1           1         0    14              1  "
      ]
     },
     "execution_count": 31,
     "metadata": {},
     "output_type": "execute_result"
    }
   ],
   "source": [
    "auctions.head(1)"
   ]
  },
  {
   "cell_type": "code",
   "execution_count": 33,
   "metadata": {},
   "outputs": [
    {
     "data": {
      "text/plain": [
       "3    26263\n",
       "0       70\n",
       "2       12\n",
       "7        2\n",
       "1        2\n",
       "8        1\n",
       "5        1\n",
       "Name: advertiser_id, dtype: int64"
      ]
     },
     "execution_count": 33,
     "metadata": {},
     "output_type": "execute_result"
    }
   ],
   "source": [
    "clicks.advertiser_id.value_counts()"
   ]
  },
  {
   "cell_type": "code",
   "execution_count": 39,
   "metadata": {},
   "outputs": [
    {
     "data": {
      "text/plain": [
       "633139769114048761     27762\n",
       "7202276635029175071    23055\n",
       "7298861376107043945    18188\n",
       "6302840482782120473    16400\n",
       "5376802567578262905    16367\n",
       "8963711959081981780    14362\n",
       "795159065504552200     12275\n",
       "6841615430383729819    12077\n",
       "5384039226444052914    11632\n",
       "3198179064438296471    11565\n",
       "519658456951133298     10541\n",
       "2435544514359302887    10274\n",
       "8751190726444323885    10256\n",
       "1835469468095030098    10121\n",
       "1800317677967270083    10036\n",
       "9027154272484048876     9958\n",
       "7574657722181550308     9767\n",
       "5051610571898428259     9642\n",
       "320899491737875154      9388\n",
       "8292793494956750501     9315\n",
       "201759600719985554      9158\n",
       "8021195662481548645     9128\n",
       "7650408579713341483     9020\n",
       "6392567838173461255     8994\n",
       "1478017482044456084     8839\n",
       "6203407103275384250     8823\n",
       "68016455690089173       8809\n",
       "8496718680483076445     8682\n",
       "8491787427844905567     8513\n",
       "4834359787191717922     8495\n",
       "                       ...  \n",
       "5965915879234710356        1\n",
       "5962371857976871552        1\n",
       "8775830221902480502        1\n",
       "6400673246409330938        1\n",
       "8848059905278451239        1\n",
       "2387472711882692396        1\n",
       "6919864391159784728        1\n",
       "6918436643991280288        1\n",
       "1265394499505454114        1\n",
       "1192257502202972678        1\n",
       "9203091890242370281        1\n",
       "116130905366082001         1\n",
       "6746874540432696049        1\n",
       "2349117575888212633        1\n",
       "3115384134991732020        1\n",
       "6658609489857321554        1\n",
       "6703916290356312366        1\n",
       "3122486780808724561        1\n",
       "9128287699651516130        1\n",
       "9090768995352915488        1\n",
       "9043530082076844214        1\n",
       "8981735392801911779        1\n",
       "3142217809159395792        1\n",
       "6583122778867177908        1\n",
       "6552357094313704           1\n",
       "8900190054383012348        1\n",
       "6516634122275645386        1\n",
       "8850035083239840651        1\n",
       "6420983180219968660        1\n",
       "954913365148193776         1\n",
       "Name: device_id, Length: 206977, dtype: int64"
      ]
     },
     "execution_count": 39,
     "metadata": {},
     "output_type": "execute_result"
    }
   ],
   "source": [
    "auctions['device_id'].value_counts()"
   ]
  },
  {
   "cell_type": "code",
   "execution_count": 48,
   "metadata": {},
   "outputs": [
    {
     "data": {
      "text/plain": [
       "KdBnICuNg6KSSooMPF6esC9etYfFfVg    1\n",
       "3AgOlw7z-Za2j6MYclzx6dpk6AYB95s    1\n",
       "tN_3SRf49hg8oYfZiCvidgUseUQ_iEI    1\n",
       "S2CPC7rgiM6sVT5igiooVR-x5Rg0g4o    1\n",
       "1l93qjMA5p13HbhnXCwJzUA6LEdIF4s    1\n",
       "qd3FEH_z1Dq_jKnHTmUXZIZxsnwzzsA    1\n",
       "an7PTGuvvH96RptBzwcWpXJ925JK4gI    1\n",
       "4cD_VGQgwW2hdg-B8zJpkfIaRb0flmg    1\n",
       "TAeXObB9PJBuU3vSr5fvxo70JwiKe4c    1\n",
       "fSSsRSBC6i_MfrachRM8xKACs6hilW0    1\n",
       "cFHu-FxBZXnSlvaTb7AizXIAVzlJ8IY    1\n",
       "tJKV0r4k3IAqGTYOZbedWhvA_N81ITY    1\n",
       "2KGRowz2gYhHxQ2VeWasrNhvhFWxXcg    1\n",
       "Brim4pMpBZQHs9hn3QmGUyfgoHlh9rk    1\n",
       "aljaHutN9crWOLXWNgmi3BGwxQ8fiKs    1\n",
       "Ztvo_ceafAPoUv2nKN4lllukpbQbWUE    1\n",
       "084MHRqbJV7qXzD04K3X_25u-xmx4ag    1\n",
       "7Z-dZyzMI3Eu9triAx9BOzA_2CMZU3Q    1\n",
       "1S0DdHdNjRNKNnBLDKvVAtth44tbNRQ    1\n",
       "e_J-BHUX3bC3MK7CAB_i4MyqHkOGu4E    1\n",
       "KHxjauRVKfepC2g5_NR4PDPlcjBCISY    1\n",
       "S2daBMYS4i3QCxBLVj2LJQvWpSuV19s    1\n",
       "ZpfsJ7YVGoA6c2zud2_s-5f28YRjHIM    1\n",
       "SWH26dGJAR-kEJLg0ish6bNREVSJh8k    1\n",
       "rOrkWN6KulADAwjUo1VP7EnGfko5o8I    1\n",
       "IibMvxjf35oH7-3nxhVnmSnG6rigtY8    1\n",
       "9lxoWmKj-6hCvTsJC31wdXbzxBQz24c    1\n",
       "yP2X-MuxkMmViwzSoOnNOds4dmQm9io    1\n",
       "izWMd5kPBZpj1hHvp1ap8wZgfLuzXvg    1\n",
       "0JfG-DC1DViWhpuPXfd7uewu75lb_Kw    1\n",
       "                                  ..\n",
       "cFpxSOG26IA4WBr8sPnEVKrqxkfGx9A    1\n",
       "kD5nME6Ykc7ha0R2hZLPlIpecf1C794    1\n",
       "N_xcgDnrrSRq1l3EVzdDWokeP7yFa3k    1\n",
       "Z2tEYwB9w3s2PUujnKf_gR2w10GwA7w    1\n",
       "xp4vHO8xLT-RZtcgmwulf7yhHoiVPno    1\n",
       "F-nKnyIJqRORniIZrZDbBcR3OXdBNsw    1\n",
       "Z7zTCsYwDEjyGyLGOdmPIOkhpUnXWfo    1\n",
       "z37nr7PxN4EGHB3SaLrnoWCflevD6rY    1\n",
       "vPNxlf1N-771BnfnxqMqYSsXSyf87M0    1\n",
       "DbIuPsOMTf3gB5duNrTu0YyhJdMTMHs    1\n",
       "dblacpa78TqrJTQeD1qjNzO6is1BkmU    1\n",
       "ei0-9wokyn5YDsdyPceG8_CmfrQmnzk    1\n",
       "190nAQGLtYGnsCofxj_kEBXVhH3OJnU    1\n",
       "_RGLCf-v2YA7UCdlHuCw9_0qOH7F9rg    1\n",
       "1w6R66bgKvWvetQQ7W69aqA1xKHsHkY    1\n",
       "GKejY5I7_Qhpl1ucKL2VDnkYWXc4Q-Y    1\n",
       "Rl-2nsJtKLDiEJyaZgm2VZHo_lGhv0Q    1\n",
       "kYTQVfZMMfzpYnSunHe0FCH1jGL9HjM    1\n",
       "Kbv1wy4hGewD_jezVJPeazCkpyiY5vU    1\n",
       "kAAmrSDgEu_pqPC_1zzXdP4TTgLmWDk    1\n",
       "CzuJHvlyqnWsap1Flu6nZ5YxLCbv6pc    1\n",
       "BITwZ83kUy_SSGvHUuIwLPbsYwDIuKo    1\n",
       "-DbicJ8xdMkOQnAHpJP9bVEmzDwLmZs    1\n",
       "gcVtL52ysBKkpduZyaUpFCih_zXth-E    1\n",
       "iMf4jGAydQwhNPcbwZiuogQUJdzguTI    1\n",
       "ujEl__4H4hi-_1NQVMyYRNZlgDuCJIA    1\n",
       "4Otz2UCzzebODivIKxw8nOScbZthqcc    1\n",
       "FqboRHlhzkUGAqDitIeRDvMWii-BLkU    1\n",
       "E5-8k2ZtB5urDwgTVgXblUD2E21k3i8    1\n",
       "y895svtTTQEOXROXJT-C0v3QBwxXggI    1\n",
       "Name: trans_id, Length: 26351, dtype: int64"
      ]
     },
     "execution_count": 48,
     "metadata": {},
     "output_type": "execute_result"
    }
   ],
   "source": [
    "clicks['trans_id'].value_counts()"
   ]
  },
  {
   "cell_type": "code",
   "execution_count": 44,
   "metadata": {},
   "outputs": [
    {
     "data": {
      "text/plain": [
       "0    13354597\n",
       "1     4016739\n",
       "5     1466494\n",
       "2      582083\n",
       "6      151406\n",
       "Name: source_id, dtype: int64"
      ]
     },
     "execution_count": 44,
     "metadata": {},
     "output_type": "execute_result"
    }
   ],
   "source": [
    "auctions.source_id.value_counts()"
   ]
  }
 ],
 "metadata": {
  "kernelspec": {
   "display_name": "Python 3",
   "language": "python",
   "name": "python3"
  },
  "language_info": {
   "codemirror_mode": {
    "name": "ipython",
    "version": 3
   },
   "file_extension": ".py",
   "mimetype": "text/x-python",
   "name": "python",
   "nbconvert_exporter": "python",
   "pygments_lexer": "ipython3",
   "version": "3.7.1"
  }
 },
 "nbformat": 4,
 "nbformat_minor": 2
}
