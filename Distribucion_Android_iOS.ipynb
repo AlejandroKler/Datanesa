{
 "cells": [
  {
   "cell_type": "markdown",
   "metadata": {},
   "source": [
    "# Análisis del uso por plataforma"
   ]
  },
  {
   "cell_type": "code",
   "execution_count": 1,
   "metadata": {},
   "outputs": [],
   "source": [
    "import pandas as pd\n",
    "import numpy as np\n",
    "%matplotlib inline\n",
    "import matplotlib.pyplot as plt\n",
    "import matplotlib"
   ]
  },
  {
   "cell_type": "markdown",
   "metadata": {},
   "source": [
    "Carga de dataframes"
   ]
  },
  {
   "cell_type": "code",
   "execution_count": 2,
   "metadata": {},
   "outputs": [],
   "source": [
    "auctions = pd.read_csv('auctions.csv')\n",
    "auctions.drop('auction_type_id', axis = 1, inplace = True)  #todas Nan\n",
    "auctions[\"date\"] =  pd.to_datetime(auctions[\"date\"], errors = \"coerce\")"
   ]
  },
  {
   "cell_type": "code",
   "execution_count": 3,
   "metadata": {},
   "outputs": [],
   "source": [
    "clicks_dtypes = {'advertiser': np.int8, 'action_id': np.float16, 'source_id': np.int8, 'country_code': 'category',\n",
    "                 'latitude': np.float16, 'longitude': np.float16, 'carrier_id': np.float16, 'brand': np.float16,\n",
    "                 'touchX': np.float16, 'touchY': np.float16}\n",
    "\n",
    "clicks = pd.read_csv('clicks.csv', dtype = clicks_dtypes)\n",
    "clicks[\"created\"] =  pd.to_datetime(clicks[\"created\"], errors = \"coerce\") #parseo de fechas\n",
    "clicks.drop('action_id', axis = 1, inplace = True) #todos NaN\n",
    "clicks.drop('wifi_connection', axis = 1, inplace = True) #todos False"
   ]
  },
  {
   "cell_type": "code",
   "execution_count": 4,
   "metadata": {},
   "outputs": [],
   "source": [
    "events = pd.read_csv('events.csv', low_memory=False)\n",
    "\n",
    "events[\"date\"] =  pd.to_datetime(events[\"date\"], errors = \"coerce\")"
   ]
  },
  {
   "cell_type": "code",
   "execution_count": 5,
   "metadata": {},
   "outputs": [],
   "source": [
    "installs_dtypes = {'application_id': 'category', 'kind': 'category'}\n",
    "\n",
    "installs = pd.read_csv('installs.csv', dtype = installs_dtypes)\n",
    "installs[\"created\"] =  pd.to_datetime(installs[\"created\"], errors = \"coerce\") #parseo de fechas\n",
    "installs.drop('attributed', axis = 1, inplace = True) #son todas false\n",
    "installs.drop('click_hash', axis = 1, inplace = True) #son todas NaN"
   ]
  },
  {
   "cell_type": "markdown",
   "metadata": {},
   "source": [
    "## ¿Cuál es la distribución de subastas por hora? ¿Pertenecen en mayor medida a Android o iOS?"
   ]
  },
  {
   "cell_type": "code",
   "execution_count": 6,
   "metadata": {},
   "outputs": [],
   "source": [
    "auctions['cant_subastas'] = 1\n",
    "auctions['hora'] = auctions['date'].dt.hour\n",
    "group_auctions = auctions.groupby(['hora','platform']).agg({'cant_subastas':'count'})"
   ]
  },
  {
   "cell_type": "code",
   "execution_count": 7,
   "metadata": {},
   "outputs": [],
   "source": [
    "subastas_por_hora = group_auctions.unstack().cant_subastas"
   ]
  },
  {
   "cell_type": "code",
   "execution_count": 8,
   "metadata": {},
   "outputs": [
    {
     "data": {
      "text/plain": [
       "Text(0, 0.5, 'Cantidad de subastas')"
      ]
     },
     "execution_count": 8,
     "metadata": {},
     "output_type": "execute_result"
    },
    {
     "data": {
      "image/png": "[encoded data removed]",
      "text/plain": [
       "<Figure size 864x864 with 1 Axes>"
      ]
     },
     "metadata": {
      "needs_background": "light"
     },
     "output_type": "display_data"
    }
   ],
   "source": [
    "colors = [\"#006D2C\",\"#74C476\"]\n",
    "plot = subastas_por_hora.plot.bar(stacked=True, color=colors, figsize=(12,12), title = \"Cantidad de subastas por hora\")\n",
    "plot.set_xlabel(\"Hora del día\")\n",
    "plot.set_ylabel(\"Cantidad de subastas\")"
   ]
  },
  {
   "cell_type": "markdown",
   "metadata": {},
   "source": [
    "## Distribución por plataforma"
   ]
  },
  {
   "cell_type": "markdown",
   "metadata": {},
   "source": [
    "La librería puede instalarse con: 'sudo pip install plotly'"
   ]
  },
  {
   "cell_type": "code",
   "execution_count": 9,
   "metadata": {},
   "outputs": [
    {
     "data": {
      "text/html": [
       "<script type=\"text/javascript\">window.PlotlyConfig = {MathJaxConfig: 'local'};</script><script type=\"text/javascript\">if (window.MathJax) {MathJax.Hub.Config({SVG: {font: \"STIX-Web\"}});}</script><script>requirejs.config({paths: { 'plotly': ['https://cdn.plot.ly/plotly-latest.min']},});if(!window._Plotly) {require(['plotly'],function(plotly) {window._Plotly=plotly;});}</script>"
      ],
      "text/vnd.plotly.v1+html": [
       "<script type=\"text/javascript\">window.PlotlyConfig = {MathJaxConfig: 'local'};</script><script type=\"text/javascript\">if (window.MathJax) {MathJax.Hub.Config({SVG: {font: \"STIX-Web\"}});}</script><script>requirejs.config({paths: { 'plotly': ['https://cdn.plot.ly/plotly-latest.min']},});if(!window._Plotly) {require(['plotly'],function(plotly) {window._Plotly=plotly;});}</script>"
      ]
     },
     "metadata": {},
     "output_type": "display_data"
    }
   ],
   "source": [
    "import plotly\n",
    "plotly.offline.init_notebook_mode(connected=True)\n",
    "import plotly.offline as py\n",
    "import plotly.graph_objs as go"
   ]
  },
  {
   "cell_type": "code",
   "execution_count": 10,
   "metadata": {},
   "outputs": [],
   "source": [
    "installs_by_plataform = auctions[[\"device_id\",\"platform\"]]\\\n",
    "    .merge(installs[[\"ref_hash\"]],left_on=\"device_id\",right_on=\"ref_hash\").drop_duplicates() \n",
    "clicks_by_plataform = auctions[[\"device_id\",\"platform\"]]\\\n",
    "    .merge(clicks[[\"ref_hash\"]],left_on=\"device_id\",right_on=\"ref_hash\").drop_duplicates()\n",
    "events_by_plataform = auctions[[\"device_id\",\"platform\"]]\\\n",
    "    .merge(events[[\"ref_hash\"]],left_on=\"device_id\",right_on=\"ref_hash\").drop_duplicates() "
   ]
  },
  {
   "cell_type": "code",
   "execution_count": 11,
   "metadata": {},
   "outputs": [
    {
     "data": {
      "text/html": [
       "<div>\n",
       "<style scoped>\n",
       "    .dataframe tbody tr th:only-of-type {\n",
       "        vertical-align: middle;\n",
       "    }\n",
       "\n",
       "    .dataframe tbody tr th {\n",
       "        vertical-align: top;\n",
       "    }\n",
       "\n",
       "    .dataframe thead th {\n",
       "        text-align: right;\n",
       "    }\n",
       "</style>\n",
       "<table border=\"1\" class=\"dataframe\">\n",
       "  <thead>\n",
       "    <tr style=\"text-align: right;\">\n",
       "      <th></th>\n",
       "      <th>installed</th>\n",
       "      <th>auctions</th>\n",
       "      <th>clicks</th>\n",
       "      <th>events</th>\n",
       "      <th>porcentaje_installed</th>\n",
       "      <th>porcentaje_events</th>\n",
       "      <th>porcentaje_clicks</th>\n",
       "      <th>porcentaje_total_installed</th>\n",
       "      <th>porcentaje_total_events</th>\n",
       "      <th>porcentaje_total_clicks</th>\n",
       "      <th>porcentaje_total_auctions</th>\n",
       "    </tr>\n",
       "  </thead>\n",
       "  <tbody>\n",
       "    <tr>\n",
       "      <th>2</th>\n",
       "      <td>500</td>\n",
       "      <td>4029494</td>\n",
       "      <td>493</td>\n",
       "      <td>21927</td>\n",
       "      <td>0.012409</td>\n",
       "      <td>0.544163</td>\n",
       "      <td>0.012235</td>\n",
       "      <td>50.301811</td>\n",
       "      <td>25.846948</td>\n",
       "      <td>2.903587</td>\n",
       "      <td>20.588771</td>\n",
       "    </tr>\n",
       "    <tr>\n",
       "      <th>1</th>\n",
       "      <td>494</td>\n",
       "      <td>15541825</td>\n",
       "      <td>16486</td>\n",
       "      <td>62907</td>\n",
       "      <td>0.003179</td>\n",
       "      <td>0.404759</td>\n",
       "      <td>0.106075</td>\n",
       "      <td>49.698189</td>\n",
       "      <td>74.153052</td>\n",
       "      <td>97.096413</td>\n",
       "      <td>79.411229</td>\n",
       "    </tr>\n",
       "  </tbody>\n",
       "</table>\n",
       "</div>"
      ],
      "text/plain": [
       "   installed  auctions  clicks  events  porcentaje_installed  \\\n",
       "2        500   4029494     493   21927              0.012409   \n",
       "1        494  15541825   16486   62907              0.003179   \n",
       "\n",
       "   porcentaje_events  porcentaje_clicks  porcentaje_total_installed  \\\n",
       "2           0.544163           0.012235                   50.301811   \n",
       "1           0.404759           0.106075                   49.698189   \n",
       "\n",
       "   porcentaje_total_events  porcentaje_total_clicks  porcentaje_total_auctions  \n",
       "2                25.846948                 2.903587                  20.588771  \n",
       "1                74.153052                97.096413                  79.411229  "
      ]
     },
     "execution_count": 11,
     "metadata": {},
     "output_type": "execute_result"
    }
   ],
   "source": [
    "df_plataform = pd.DataFrame(installs_by_plataform.platform.value_counts())\n",
    "df_plataform.rename(columns={\"platform\":\"installed\"},inplace=True)\n",
    "df_plataform = df_plataform.join(pd.DataFrame(auctions[\"platform\"].value_counts()))\n",
    "df_plataform.rename(columns={\"platform\":\"auctions\"},inplace=True)\n",
    "df_plataform = df_plataform.join(clicks_by_plataform.platform.value_counts())\n",
    "df_plataform.rename(columns={\"platform\":\"clicks\"},inplace=True)\n",
    "df_plataform = df_plataform.join(events_by_plataform.platform.value_counts())\n",
    "df_plataform.rename(columns={\"platform\":\"events\"},inplace=True)\n",
    "\n",
    "df_plataform[\"porcentaje_installed\"] = df_plataform[\"installed\"] * 100 / df_plataform[\"auctions\"]\n",
    "df_plataform[\"porcentaje_events\"] = df_plataform[\"events\"] * 100 / df_plataform[\"auctions\"]\n",
    "df_plataform[\"porcentaje_clicks\"] = df_plataform[\"clicks\"] * 100 / df_plataform[\"auctions\"]\n",
    "\n",
    "df_plataform[\"porcentaje_total_installed\"] = df_plataform[\"installed\"] *100 / df_plataform[\"installed\"].sum()\n",
    "df_plataform[\"porcentaje_total_events\"] = df_plataform[\"events\"] *100 / df_plataform[\"events\"].sum()\n",
    "df_plataform[\"porcentaje_total_clicks\"] = df_plataform[\"clicks\"] *100 / df_plataform[\"clicks\"].sum()\n",
    "df_plataform[\"porcentaje_total_auctions\"] = df_plataform[\"auctions\"] *100 / df_plataform[\"auctions\"].sum()\n",
    "df_plataform"
   ]
  },
  {
   "cell_type": "code",
   "execution_count": 91,
   "metadata": {},
   "outputs": [
    {
     "data": {
      "application/vnd.plotly.v1+json": {
       "config": {
        "linkText": "Export to plot.ly",
        "plotlyServerURL": "https://plot.ly",
        "showLink": false
       },
       "data": [
        {
         "fill": "toself",
         "name": "Platform 1",
         "r": [
          79.4112292584879,
          49.69818913480885,
          74.15305184242168,
          97.09641321632606
         ],
         "theta": [
          "auctions",
          "installs",
          "events",
          "clicks"
         ],
         "type": "scatterpolar",
         "uid": "8296cc40-7d02-4594-a8c7-0bf2aaf6a08c"
        },
        {
         "fill": "toself",
         "name": "Platform 2",
         "r": [
          20.588770741512107,
          50.30181086519115,
          25.84694815757833,
          2.90358678367395
         ],
         "theta": [
          "auctions",
          "installs",
          "events",
          "clicks"
         ],
         "type": "scatterpolar",
         "uid": "197fd634-7bb4-4c8a-8f41-0994241df09d"
        }
       ],
       "layout": {
        "font": {
         "size": 18
        },
        "polar": {
         "angularaxis": {
          "rotation": 45
         },
         "radialaxis": {
          "range": [
           0,
           100
          ],
          "tickangle": -45,
          "visible": true
         }
        },
        "showlegend": true,
        "title": {
         "text": "Porcentaje de participación por platform"
        }
       }
      },
      "text/html": [
       "<div id=\"0d578fb8-2b98-4e51-b974-b9a48fa17117\" style=\"height: 525px; width: 100%;\" class=\"plotly-graph-div\"></div><script type=\"text/javascript\">require([\"plotly\"], function(Plotly) { window.PLOTLYENV=window.PLOTLYENV || {};window.PLOTLYENV.BASE_URL=\"https://plot.ly\";\n",
       "if (document.getElementById(\"0d578fb8-2b98-4e51-b974-b9a48fa17117\")) {\n",
       "    Plotly.newPlot(\"0d578fb8-2b98-4e51-b974-b9a48fa17117\", [{\"fill\": \"toself\", \"name\": \"Platform 1\", \"r\": [79.4112292584879, 49.69818913480885, 74.15305184242168, 97.09641321632606], \"theta\": [\"auctions\", \"installs\", \"events\", \"clicks\"], \"type\": \"scatterpolar\", \"uid\": \"8296cc40-7d02-4594-a8c7-0bf2aaf6a08c\"}, {\"fill\": \"toself\", \"name\": \"Platform 2\", \"r\": [20.588770741512107, 50.30181086519115, 25.84694815757833, 2.90358678367395], \"theta\": [\"auctions\", \"installs\", \"events\", \"clicks\"], \"type\": \"scatterpolar\", \"uid\": \"197fd634-7bb4-4c8a-8f41-0994241df09d\"}], {\"font\": {\"size\": 18}, \"polar\": {\"angularaxis\": {\"rotation\": 45}, \"radialaxis\": {\"range\": [0, 100], \"tickangle\": -45, \"visible\": true}}, \"showlegend\": true, \"title\": {\"text\": \"Porcentaje de participaci\\u00f3n por platform\"}}, {\"showLink\": false, \"linkText\": \"Export to plot.ly\", \"plotlyServerURL\": \"https://plot.ly\"}); \n",
       "}\n",
       "});</script><script type=\"text/javascript\">window.addEventListener(\"resize\", function(){if (document.getElementById(\"0d578fb8-2b98-4e51-b974-b9a48fa17117\")) {window._Plotly.Plots.resize(document.getElementById(\"0d578fb8-2b98-4e51-b974-b9a48fa17117\"));};})</script>"
      ],
      "text/vnd.plotly.v1+html": [
       "<div id=\"0d578fb8-2b98-4e51-b974-b9a48fa17117\" style=\"height: 525px; width: 100%;\" class=\"plotly-graph-div\"></div><script type=\"text/javascript\">require([\"plotly\"], function(Plotly) { window.PLOTLYENV=window.PLOTLYENV || {};window.PLOTLYENV.BASE_URL=\"https://plot.ly\";\n",
       "if (document.getElementById(\"0d578fb8-2b98-4e51-b974-b9a48fa17117\")) {\n",
       "    Plotly.newPlot(\"0d578fb8-2b98-4e51-b974-b9a48fa17117\", [{\"fill\": \"toself\", \"name\": \"Platform 1\", \"r\": [79.4112292584879, 49.69818913480885, 74.15305184242168, 97.09641321632606], \"theta\": [\"auctions\", \"installs\", \"events\", \"clicks\"], \"type\": \"scatterpolar\", \"uid\": \"8296cc40-7d02-4594-a8c7-0bf2aaf6a08c\"}, {\"fill\": \"toself\", \"name\": \"Platform 2\", \"r\": [20.588770741512107, 50.30181086519115, 25.84694815757833, 2.90358678367395], \"theta\": [\"auctions\", \"installs\", \"events\", \"clicks\"], \"type\": \"scatterpolar\", \"uid\": \"197fd634-7bb4-4c8a-8f41-0994241df09d\"}], {\"font\": {\"size\": 18}, \"polar\": {\"angularaxis\": {\"rotation\": 45}, \"radialaxis\": {\"range\": [0, 100], \"tickangle\": -45, \"visible\": true}}, \"showlegend\": true, \"title\": {\"text\": \"Porcentaje de participaci\\u00f3n por platform\"}}, {\"showLink\": false, \"linkText\": \"Export to plot.ly\", \"plotlyServerURL\": \"https://plot.ly\"}); \n",
       "}\n",
       "});</script><script type=\"text/javascript\">window.addEventListener(\"resize\", function(){if (document.getElementById(\"0d578fb8-2b98-4e51-b974-b9a48fa17117\")) {window._Plotly.Plots.resize(document.getElementById(\"0d578fb8-2b98-4e51-b974-b9a48fa17117\"));};})</script>"
      ]
     },
     "metadata": {},
     "output_type": "display_data"
    }
   ],
   "source": [
    "df_plataform_to_radial = df_plataform[[\"porcentaje_total_auctions\",\"porcentaje_total_installed\",\"porcentaje_total_events\",\"porcentaje_total_clicks\"]]\n",
    "df_plataform_to_radial = df_plataform_to_radial.T\n",
    "list_of_ticks = [\"auctions\",'installs','events','clicks']\n",
    "data = [go.Scatterpolar(\n",
    "  r = df_plataform_to_radial[1].tolist(),\n",
    "  theta = list_of_ticks,\n",
    "    name = 'Platform 1',\n",
    "  fill = 'toself'\n",
    "),go.Scatterpolar(\n",
    "  r = df_plataform_to_radial[2].tolist(),\n",
    "  theta = list_of_ticks,\n",
    "    name = 'Platform 2',\n",
    "  fill = 'toself'\n",
    ")]\n",
    "\n",
    "layout = go.Layout(\n",
    "  polar = dict(\n",
    "    radialaxis = dict(\n",
    "      visible = True,\n",
    "      range = [0, 100],\n",
    "        tickangle=-45\n",
    "    ),\n",
    "      angularaxis = dict(\n",
    "        rotation = 45\n",
    "      ),\n",
    "  ),\n",
    "    title='Porcentaje de participación por platform',\n",
    "    font= dict(\n",
    "        size =18\n",
    "    ),\n",
    "  showlegend = True\n",
    ")\n",
    "\n",
    "fig = go.Figure(data=data, layout=layout)\n",
    "py.offline.iplot(fig)"
   ]
  },
  {
   "cell_type": "markdown",
   "metadata": {},
   "source": [
    "### Relacion installs / auctions"
   ]
  },
  {
   "cell_type": "code",
   "execution_count": null,
   "metadata": {},
   "outputs": [],
   "source": []
  },
  {
   "cell_type": "code",
   "execution_count": 80,
   "metadata": {},
   "outputs": [
    {
     "data": {
      "application/vnd.plotly.v1+json": {
       "config": {
        "linkText": "Export to plot.ly",
        "plotlyServerURL": "https://plot.ly",
        "showLink": false
       },
       "data": [
        {
         "orientation": "h",
         "text": [
          "0.01241%",
          "0.00318%"
         ],
         "textposition": "auto",
         "type": "bar",
         "uid": "d8caed5e-640d-4d91-9d2b-809be1562e7b",
         "x": [
          0.012408505881879958,
          0.0031785198971163294
         ],
         "y": [
          "Platform 2 ",
          "Platform 1 "
         ]
        }
       ],
       "layout": {
        "title": {
         "text": "Relacion installs / auctions por plataform"
        },
        "xaxis": {
         "range": [
          0,
          0.02
         ],
         "tickfont": {
          "color": "rgb(107, 107, 107)",
          "size": 16
         },
         "title": {
          "font": {
           "color": "rgb(107, 107, 107)",
           "size": 16
          },
          "text": "Porcentaje en función de auctions"
         }
        },
        "yaxis": {
         "tickfont": {
          "color": "rgb(107, 107, 107)",
          "size": 14
         }
        }
       }
      },
      "text/html": [
       "<div id=\"467be43c-7876-4ed9-90d8-15fcbcfb6c43\" style=\"height: 525px; width: 100%;\" class=\"plotly-graph-div\"></div><script type=\"text/javascript\">require([\"plotly\"], function(Plotly) { window.PLOTLYENV=window.PLOTLYENV || {};window.PLOTLYENV.BASE_URL=\"https://plot.ly\";\n",
       "if (document.getElementById(\"467be43c-7876-4ed9-90d8-15fcbcfb6c43\")) {\n",
       "    Plotly.newPlot(\"467be43c-7876-4ed9-90d8-15fcbcfb6c43\", [{\"orientation\": \"h\", \"text\": [\"0.01241%\", \"0.00318%\"], \"textposition\": \"auto\", \"x\": [0.012408505881879958, 0.0031785198971163294], \"y\": [\"Platform 2 \", \"Platform 1 \"], \"type\": \"bar\", \"uid\": \"d8caed5e-640d-4d91-9d2b-809be1562e7b\"}], {\"title\": {\"text\": \"Relacion installs / auctions por plataform\"}, \"xaxis\": {\"range\": [0, 0.02], \"tickfont\": {\"color\": \"rgb(107, 107, 107)\", \"size\": 16}, \"title\": {\"font\": {\"color\": \"rgb(107, 107, 107)\", \"size\": 16}, \"text\": \"Porcentaje en funci\\u00f3n de auctions\"}}, \"yaxis\": {\"tickfont\": {\"color\": \"rgb(107, 107, 107)\", \"size\": 14}}}, {\"showLink\": false, \"linkText\": \"Export to plot.ly\", \"plotlyServerURL\": \"https://plot.ly\"}); \n",
       "}\n",
       "});</script><script type=\"text/javascript\">window.addEventListener(\"resize\", function(){if (document.getElementById(\"467be43c-7876-4ed9-90d8-15fcbcfb6c43\")) {window._Plotly.Plots.resize(document.getElementById(\"467be43c-7876-4ed9-90d8-15fcbcfb6c43\"));};})</script>"
      ],
      "text/vnd.plotly.v1+html": [
       "<div id=\"467be43c-7876-4ed9-90d8-15fcbcfb6c43\" style=\"height: 525px; width: 100%;\" class=\"plotly-graph-div\"></div><script type=\"text/javascript\">require([\"plotly\"], function(Plotly) { window.PLOTLYENV=window.PLOTLYENV || {};window.PLOTLYENV.BASE_URL=\"https://plot.ly\";\n",
       "if (document.getElementById(\"467be43c-7876-4ed9-90d8-15fcbcfb6c43\")) {\n",
       "    Plotly.newPlot(\"467be43c-7876-4ed9-90d8-15fcbcfb6c43\", [{\"orientation\": \"h\", \"text\": [\"0.01241%\", \"0.00318%\"], \"textposition\": \"auto\", \"x\": [0.012408505881879958, 0.0031785198971163294], \"y\": [\"Platform 2 \", \"Platform 1 \"], \"type\": \"bar\", \"uid\": \"d8caed5e-640d-4d91-9d2b-809be1562e7b\"}], {\"title\": {\"text\": \"Relacion installs / auctions por plataform\"}, \"xaxis\": {\"range\": [0, 0.02], \"tickfont\": {\"color\": \"rgb(107, 107, 107)\", \"size\": 16}, \"title\": {\"font\": {\"color\": \"rgb(107, 107, 107)\", \"size\": 16}, \"text\": \"Porcentaje en funci\\u00f3n de auctions\"}}, \"yaxis\": {\"tickfont\": {\"color\": \"rgb(107, 107, 107)\", \"size\": 14}}}, {\"showLink\": false, \"linkText\": \"Export to plot.ly\", \"plotlyServerURL\": \"https://plot.ly\"}); \n",
       "}\n",
       "});</script><script type=\"text/javascript\">window.addEventListener(\"resize\", function(){if (document.getElementById(\"467be43c-7876-4ed9-90d8-15fcbcfb6c43\")) {window._Plotly.Plots.resize(document.getElementById(\"467be43c-7876-4ed9-90d8-15fcbcfb6c43\"));};})</script>"
      ]
     },
     "metadata": {},
     "output_type": "display_data"
    }
   ],
   "source": [
    "y = ['Platform 2 ', 'Platform 1 ']\n",
    "x = df_plataform[\"porcentaje_installed\"]\n",
    "\n",
    "text = []\n",
    "for i in x:\n",
    "    text.append(str(round(i,5)) + \"%\")\n",
    "\n",
    "data = [go.Bar(\n",
    "            x=x,\n",
    "            y=y,\n",
    "            text=text,\n",
    "            textposition = 'auto',\n",
    "            orientation = 'h'\n",
    "        )]\n",
    "layout = go.Layout(\n",
    "    title='Relacion installs / auctions por plataform',\n",
    "    xaxis=dict(\n",
    "        title='Porcentaje en función de auctions',\n",
    "        range= [0,0.02],\n",
    "        titlefont=dict(\n",
    "            size=16,\n",
    "            color='rgb(107, 107, 107)'\n",
    "        ),\n",
    "        tickfont=dict(\n",
    "            size=16,\n",
    "            color='rgb(107, 107, 107)'\n",
    "        )\n",
    "    ),\n",
    "    yaxis=dict(\n",
    "        \n",
    "        tickfont=dict(\n",
    "            size=14,\n",
    "            color='rgb(107, 107, 107)'\n",
    "        )\n",
    "    ),\n",
    ")\n",
    "\n",
    "fig = go.Figure(data=data, layout=layout)\n",
    "py.offline.iplot(fig)"
   ]
  },
  {
   "cell_type": "markdown",
   "metadata": {},
   "source": [
    "### Relacion installs / auctions"
   ]
  },
  {
   "cell_type": "code",
   "execution_count": 83,
   "metadata": {},
   "outputs": [
    {
     "data": {
      "application/vnd.plotly.v1+json": {
       "config": {
        "linkText": "Export to plot.ly",
        "plotlyServerURL": "https://plot.ly",
        "showLink": false
       },
       "data": [
        {
         "orientation": "h",
         "text": [
          "0.012%",
          "0.106%"
         ],
         "textposition": "auto",
         "type": "bar",
         "uid": "b5c2a68d-39a8-4622-95f9-8c8c50b0e27c",
         "x": [
          0.012234786799533638,
          0.10607505875275265
         ],
         "y": [
          "Platform 2 ",
          "Platform 1 "
         ]
        }
       ],
       "layout": {
        "title": {
         "text": "Relacion clicks / auctions por plataform"
        },
        "xaxis": {
         "tickfont": {
          "color": "rgb(107, 107, 107)",
          "size": 16
         },
         "title": {
          "font": {
           "color": "rgb(107, 107, 107)",
           "size": 16
          },
          "text": "Porcentaje en función de auctions"
         }
        },
        "yaxis": {
         "tickfont": {
          "color": "rgb(107, 107, 107)",
          "size": 14
         }
        }
       }
      },
      "text/html": [
       "<div id=\"bcab7c72-faa9-4c0b-9d7d-cf4aa8471ad3\" style=\"height: 525px; width: 100%;\" class=\"plotly-graph-div\"></div><script type=\"text/javascript\">require([\"plotly\"], function(Plotly) { window.PLOTLYENV=window.PLOTLYENV || {};window.PLOTLYENV.BASE_URL=\"https://plot.ly\";\n",
       "if (document.getElementById(\"bcab7c72-faa9-4c0b-9d7d-cf4aa8471ad3\")) {\n",
       "    Plotly.newPlot(\"bcab7c72-faa9-4c0b-9d7d-cf4aa8471ad3\", [{\"orientation\": \"h\", \"text\": [\"0.012%\", \"0.106%\"], \"textposition\": \"auto\", \"x\": [0.012234786799533638, 0.10607505875275265], \"y\": [\"Platform 2 \", \"Platform 1 \"], \"type\": \"bar\", \"uid\": \"b5c2a68d-39a8-4622-95f9-8c8c50b0e27c\"}], {\"title\": {\"text\": \"Relacion clicks / auctions por plataform\"}, \"xaxis\": {\"tickfont\": {\"color\": \"rgb(107, 107, 107)\", \"size\": 16}, \"title\": {\"font\": {\"color\": \"rgb(107, 107, 107)\", \"size\": 16}, \"text\": \"Porcentaje en funci\\u00f3n de auctions\"}}, \"yaxis\": {\"tickfont\": {\"color\": \"rgb(107, 107, 107)\", \"size\": 14}}}, {\"showLink\": false, \"linkText\": \"Export to plot.ly\", \"plotlyServerURL\": \"https://plot.ly\"}); \n",
       "}\n",
       "});</script><script type=\"text/javascript\">window.addEventListener(\"resize\", function(){if (document.getElementById(\"bcab7c72-faa9-4c0b-9d7d-cf4aa8471ad3\")) {window._Plotly.Plots.resize(document.getElementById(\"bcab7c72-faa9-4c0b-9d7d-cf4aa8471ad3\"));};})</script>"
      ],
      "text/vnd.plotly.v1+html": [
       "<div id=\"bcab7c72-faa9-4c0b-9d7d-cf4aa8471ad3\" style=\"height: 525px; width: 100%;\" class=\"plotly-graph-div\"></div><script type=\"text/javascript\">require([\"plotly\"], function(Plotly) { window.PLOTLYENV=window.PLOTLYENV || {};window.PLOTLYENV.BASE_URL=\"https://plot.ly\";\n",
       "if (document.getElementById(\"bcab7c72-faa9-4c0b-9d7d-cf4aa8471ad3\")) {\n",
       "    Plotly.newPlot(\"bcab7c72-faa9-4c0b-9d7d-cf4aa8471ad3\", [{\"orientation\": \"h\", \"text\": [\"0.012%\", \"0.106%\"], \"textposition\": \"auto\", \"x\": [0.012234786799533638, 0.10607505875275265], \"y\": [\"Platform 2 \", \"Platform 1 \"], \"type\": \"bar\", \"uid\": \"b5c2a68d-39a8-4622-95f9-8c8c50b0e27c\"}], {\"title\": {\"text\": \"Relacion clicks / auctions por plataform\"}, \"xaxis\": {\"tickfont\": {\"color\": \"rgb(107, 107, 107)\", \"size\": 16}, \"title\": {\"font\": {\"color\": \"rgb(107, 107, 107)\", \"size\": 16}, \"text\": \"Porcentaje en funci\\u00f3n de auctions\"}}, \"yaxis\": {\"tickfont\": {\"color\": \"rgb(107, 107, 107)\", \"size\": 14}}}, {\"showLink\": false, \"linkText\": \"Export to plot.ly\", \"plotlyServerURL\": \"https://plot.ly\"}); \n",
       "}\n",
       "});</script><script type=\"text/javascript\">window.addEventListener(\"resize\", function(){if (document.getElementById(\"bcab7c72-faa9-4c0b-9d7d-cf4aa8471ad3\")) {window._Plotly.Plots.resize(document.getElementById(\"bcab7c72-faa9-4c0b-9d7d-cf4aa8471ad3\"));};})</script>"
      ]
     },
     "metadata": {},
     "output_type": "display_data"
    }
   ],
   "source": [
    "y = ['Platform 2 ', 'Platform 1 ']\n",
    "x = df_plataform[\"porcentaje_clicks\"]\n",
    "\n",
    "text = []\n",
    "for i in x:\n",
    "    text.append(str(round(i,3)) + \"%\")\n",
    "\n",
    "data = [go.Bar(\n",
    "            x=x,\n",
    "            y=y,\n",
    "            text=text,\n",
    "            textposition = 'auto',\n",
    "            orientation = 'h'\n",
    "        )]\n",
    "layout = go.Layout(\n",
    "    title='Relacion clicks / auctions por plataform',\n",
    "    xaxis=dict(\n",
    "        title='Porcentaje en función de auctions',\n",
    "        #range= [0,0.02],\n",
    "        titlefont=dict(\n",
    "            size=16,\n",
    "            color='rgb(107, 107, 107)'\n",
    "        ),\n",
    "        tickfont=dict(\n",
    "            size=16,\n",
    "            color='rgb(107, 107, 107)'\n",
    "        )\n",
    "    ),\n",
    "    yaxis=dict(\n",
    "        \n",
    "        tickfont=dict(\n",
    "            size=14,\n",
    "            color='rgb(107, 107, 107)'\n",
    "        )\n",
    "    ),\n",
    ")\n",
    "\n",
    "fig = go.Figure(data=data, layout=layout)\n",
    "py.offline.iplot(fig)"
   ]
  },
  {
   "cell_type": "markdown",
   "metadata": {},
   "source": [
    "### Relacion events / auctions"
   ]
  },
  {
   "cell_type": "code",
   "execution_count": 85,
   "metadata": {},
   "outputs": [
    {
     "data": {
      "application/vnd.plotly.v1+json": {
       "config": {
        "linkText": "Export to plot.ly",
        "plotlyServerURL": "https://plot.ly",
        "showLink": false
       },
       "data": [
        {
         "orientation": "h",
         "text": [
          "0.544%",
          "0.405%"
         ],
         "textposition": "auto",
         "type": "bar",
         "uid": "22bf6233-4dae-4904-bdd9-a3c0d7c83152",
         "x": [
          0.5441626169439637,
          0.40475941531962945
         ],
         "y": [
          "Platform 2 ",
          "Platform 1 "
         ]
        }
       ],
       "layout": {
        "title": {
         "text": "Relacion events / auctions por plataform"
        },
        "xaxis": {
         "range": [
          0,
          1
         ],
         "tickfont": {
          "color": "rgb(107, 107, 107)",
          "size": 16
         },
         "title": {
          "font": {
           "color": "rgb(107, 107, 107)",
           "size": 16
          },
          "text": "Porcentaje en función de auctions"
         }
        },
        "yaxis": {
         "tickfont": {
          "color": "rgb(107, 107, 107)",
          "size": 14
         }
        }
       }
      },
      "text/html": [
       "<div id=\"727148b7-106a-483b-8a32-90d9c939fe2f\" style=\"height: 525px; width: 100%;\" class=\"plotly-graph-div\"></div><script type=\"text/javascript\">require([\"plotly\"], function(Plotly) { window.PLOTLYENV=window.PLOTLYENV || {};window.PLOTLYENV.BASE_URL=\"https://plot.ly\";\n",
       "if (document.getElementById(\"727148b7-106a-483b-8a32-90d9c939fe2f\")) {\n",
       "    Plotly.newPlot(\"727148b7-106a-483b-8a32-90d9c939fe2f\", [{\"orientation\": \"h\", \"text\": [\"0.544%\", \"0.405%\"], \"textposition\": \"auto\", \"x\": [0.5441626169439637, 0.40475941531962945], \"y\": [\"Platform 2 \", \"Platform 1 \"], \"type\": \"bar\", \"uid\": \"22bf6233-4dae-4904-bdd9-a3c0d7c83152\"}], {\"title\": {\"text\": \"Relacion events / auctions por plataform\"}, \"xaxis\": {\"range\": [0, 1], \"tickfont\": {\"color\": \"rgb(107, 107, 107)\", \"size\": 16}, \"title\": {\"font\": {\"color\": \"rgb(107, 107, 107)\", \"size\": 16}, \"text\": \"Porcentaje en funci\\u00f3n de auctions\"}}, \"yaxis\": {\"tickfont\": {\"color\": \"rgb(107, 107, 107)\", \"size\": 14}}}, {\"showLink\": false, \"linkText\": \"Export to plot.ly\", \"plotlyServerURL\": \"https://plot.ly\"}); \n",
       "}\n",
       "});</script><script type=\"text/javascript\">window.addEventListener(\"resize\", function(){if (document.getElementById(\"727148b7-106a-483b-8a32-90d9c939fe2f\")) {window._Plotly.Plots.resize(document.getElementById(\"727148b7-106a-483b-8a32-90d9c939fe2f\"));};})</script>"
      ],
      "text/vnd.plotly.v1+html": [
       "<div id=\"727148b7-106a-483b-8a32-90d9c939fe2f\" style=\"height: 525px; width: 100%;\" class=\"plotly-graph-div\"></div><script type=\"text/javascript\">require([\"plotly\"], function(Plotly) { window.PLOTLYENV=window.PLOTLYENV || {};window.PLOTLYENV.BASE_URL=\"https://plot.ly\";\n",
       "if (document.getElementById(\"727148b7-106a-483b-8a32-90d9c939fe2f\")) {\n",
       "    Plotly.newPlot(\"727148b7-106a-483b-8a32-90d9c939fe2f\", [{\"orientation\": \"h\", \"text\": [\"0.544%\", \"0.405%\"], \"textposition\": \"auto\", \"x\": [0.5441626169439637, 0.40475941531962945], \"y\": [\"Platform 2 \", \"Platform 1 \"], \"type\": \"bar\", \"uid\": \"22bf6233-4dae-4904-bdd9-a3c0d7c83152\"}], {\"title\": {\"text\": \"Relacion events / auctions por plataform\"}, \"xaxis\": {\"range\": [0, 1], \"tickfont\": {\"color\": \"rgb(107, 107, 107)\", \"size\": 16}, \"title\": {\"font\": {\"color\": \"rgb(107, 107, 107)\", \"size\": 16}, \"text\": \"Porcentaje en funci\\u00f3n de auctions\"}}, \"yaxis\": {\"tickfont\": {\"color\": \"rgb(107, 107, 107)\", \"size\": 14}}}, {\"showLink\": false, \"linkText\": \"Export to plot.ly\", \"plotlyServerURL\": \"https://plot.ly\"}); \n",
       "}\n",
       "});</script><script type=\"text/javascript\">window.addEventListener(\"resize\", function(){if (document.getElementById(\"727148b7-106a-483b-8a32-90d9c939fe2f\")) {window._Plotly.Plots.resize(document.getElementById(\"727148b7-106a-483b-8a32-90d9c939fe2f\"));};})</script>"
      ]
     },
     "metadata": {},
     "output_type": "display_data"
    }
   ],
   "source": [
    "y = ['Platform 2 ', 'Platform 1 ']\n",
    "x = df_plataform[\"porcentaje_events\"]\n",
    "\n",
    "text = []\n",
    "for i in x:\n",
    "    text.append(str(round(i,3)) + \"%\")\n",
    "\n",
    "data = [go.Bar(\n",
    "            x=x,\n",
    "            y=y,\n",
    "            text=text,\n",
    "            textposition = 'auto',\n",
    "            orientation = 'h'\n",
    "        )]\n",
    "layout = go.Layout(\n",
    "    title='Relacion events / auctions por plataform',\n",
    "    xaxis=dict(\n",
    "        title='Porcentaje en función de auctions',\n",
    "        range= [0,1],\n",
    "        titlefont=dict(\n",
    "            size=16,\n",
    "            color='rgb(107, 107, 107)'\n",
    "        ),\n",
    "        tickfont=dict(\n",
    "            size=16,\n",
    "            color='rgb(107, 107, 107)'\n",
    "        )\n",
    "    ),\n",
    "    yaxis=dict(\n",
    "        \n",
    "        tickfont=dict(\n",
    "            size=14,\n",
    "            color='rgb(107, 107, 107)'\n",
    "        )\n",
    "    ),\n",
    ")\n",
    "\n",
    "fig = go.Figure(data=data, layout=layout)\n",
    "py.offline.iplot(fig)"
   ]
  }
 ],
 "metadata": {
  "kernelspec": {
   "display_name": "Python 3",
   "language": "python",
   "name": "python3"
  },
  "language_info": {
   "codemirror_mode": {
    "name": "ipython",
    "version": 3
   },
   "file_extension": ".py",
   "mimetype": "text/x-python",
   "name": "python",
   "nbconvert_exporter": "python",
   "pygments_lexer": "ipython3",
   "version": "3.7.1"
  }
 },
 "nbformat": 4,
 "nbformat_minor": 2
}
