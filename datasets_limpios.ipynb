{
 "cells": [
  {
   "cell_type": "code",
   "execution_count": null,
   "metadata": {},
   "outputs": [],
   "source": [
    "import pandas as pd\n",
    "import numpy as np"
   ]
  },
  {
   "cell_type": "code",
   "execution_count": null,
   "metadata": {},
   "outputs": [],
   "source": [
    "installs_dtypes = {'application_id': 'category', 'ref_type': 'category', 'device_countrycode': 'category',\n",
    "                   'device_brand': 'category', 'device_model' : 'category', 'session_user_agent': 'category',\n",
    "                   'user_agent': 'category', 'kind': 'category', 'device_language': 'category'}\n",
    "\n",
    "installs = pd.read_csv('installs.csv', dtype = installs_dtypes)\n",
    "\n",
    "installs[\"created\"] =  pd.to_datetime(installs[\"created\"], errors = \"coerce\") #parseo de fechas\n",
    "\n",
    "installs.drop('attributed', axis = 1, inplace = True) #son todas false\n",
    "installs.drop('click_hash', axis = 1, inplace = True) #son todas NaN"
   ]
  },
  {
   "cell_type": "code",
   "execution_count": null,
   "metadata": {},
   "outputs": [],
   "source": [
    "installs['trans_id'].value_counts() #????? esta columna podria estar rota"
   ]
  },
  {
   "cell_type": "code",
   "execution_count": 1,
   "metadata": {},
   "outputs": [],
   "source": [
    "clicks_dtypes = {'advertiser': np.int8, 'action_id': np.float16, 'source_id': np.int8, 'country_code': 'category',\n",
    "                 'latitude': np.float16, 'longitude': np.float16, 'carrier_id': np.float16, 'brand': np.float16,\n",
    "                 'touchX': np.float16, 'touchY': np.float16}\n",
    "\n",
    "clicks = pd.read_csv('clicks.csv', dtype = clicks_dtypes)\n",
    "\n",
    "clicks.drop('action_id', axis = 1, inplace = True) #todos NaN\n",
    "clicks.drop('wifi_connection', axis = 1, inplace = True) #todos False\n",
    "\n",
    "clicks[\"created\"] =  pd.to_datetime(clicks[\"created\"], errors = \"coerce\") #parseo de fechas"
   ]
  },
  {
   "cell_type": "code",
   "execution_count": null,
   "metadata": {},
   "outputs": [],
   "source": [
    "events_dtypes = {'event_id': 'category', 'ref_type': 'category', 'ref_hash': 'category', 'application_id': 'category',\n",
    "                   'attributed': 'category', 'device_countrycode': 'category', 'device_os_version': 'category',\n",
    "                   'device_brand' : 'category', 'device_model' : 'category', 'device_city': 'category', 'session_user_agent': 'category', 'user_agent': 'category', 'carrier': 'category',\n",
    "                   'kind': 'category', 'device_os' : 'category', 'wifi': 'category', 'connection_type': 'category',\n",
    "                   'device_language': 'category'}\n",
    "\n",
    "events = pd.read_csv('events.csv', dtype = events_dtypes, low_memory=False)\n",
    "\n",
    "events[\"date\"] =  pd.to_datetime(events[\"date\"], errors = \"coerce\")"
   ]
  },
  {
   "cell_type": "code",
   "execution_count": null,
   "metadata": {},
   "outputs": [],
   "source": [
    "import pandas as pd\n",
    "import numpy as np\n",
    "auctions_dtypes = {'auction_type_id': np.float16, 'country': 'category', 'platform': 'category',\n",
    "                   'ref_type_id': 'category', 'source_id': 'category', 'device_id': 'category'}\n",
    "\n",
    "auctions = pd.read_csv('auctions.csv', dtype = auctions_dtypes)\n",
    "\n",
    "auctions.drop('auction_type_id', axis = 1, inplace = True)  #todas Nan\n",
    "\n",
    "auctions[\"date\"] =  pd.to_datetime(auctions[\"date\"], errors = \"coerce\")"
   ]
  }
 ],
 "metadata": {
  "kernelspec": {
   "display_name": "Python 3",
   "language": "python",
   "name": "python3"
  },
  "language_info": {
   "codemirror_mode": {
    "name": "ipython",
    "version": 3
   },
   "file_extension": ".py",
   "mimetype": "text/x-python",
   "name": "python",
   "nbconvert_exporter": "python",
   "pygments_lexer": "ipython3",
   "version": "3.7.1"
  }
 },
 "nbformat": 4,
 "nbformat_minor": 2
}
