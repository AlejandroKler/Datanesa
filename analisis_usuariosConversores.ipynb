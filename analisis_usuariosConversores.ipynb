{
 "cells": [
  {
   "cell_type": "markdown",
   "metadata": {},
   "source": [
    "# Análisis de los usuarios que realizaron conversiones"
   ]
  },
  {
   "cell_type": "code",
   "execution_count": 1,
   "metadata": {},
   "outputs": [],
   "source": [
    "import pandas as pd\n",
    "import numpy as np"
   ]
  },
  {
   "cell_type": "code",
   "execution_count": 4,
   "metadata": {},
   "outputs": [],
   "source": [
    "events_dtypes = {'event_id': 'category', 'ref_type': 'category', 'application_id': 'category',\n",
    "                   'attributed': 'category', 'device_countrycode': 'category', 'device_os_version': 'category',\n",
    "                   'device_brand' : 'category', 'device_model' : 'category', 'device_city': 'category', 'session_user_agent': 'category', 'user_agent': 'category', 'carrier': 'category',\n",
    "                   'device_os' : 'category', 'wifi': 'category', 'connection_type': 'category',\n",
    "                   'device_language': 'category'}\n",
    "\n",
    "events = pd.read_csv('events.csv', dtype = events_dtypes, low_memory=False)\n",
    "\n",
    "events[\"date\"] =  pd.to_datetime(events[\"date\"], errors = \"coerce\")"
   ]
  },
  {
   "cell_type": "code",
   "execution_count": 5,
   "metadata": {},
   "outputs": [],
   "source": [
    "installs_dtypes = {'application_id': 'category', 'ref_type': 'category', 'device_countrycode': 'category',\n",
    "                   'device_brand': 'category', 'device_model' : 'category', 'session_user_agent': 'category',\n",
    "                   'user_agent': 'category', 'kind': 'category', 'device_language': 'category'}\n",
    "\n",
    "installs = pd.read_csv('installs.csv', dtype = installs_dtypes)\n",
    "\n",
    "installs[\"created\"] =  pd.to_datetime(installs[\"created\"], errors = \"coerce\") #parseo de fechas\n",
    "\n",
    "installs.drop('attributed', axis = 1, inplace = True) #son todas false\n",
    "installs.drop('click_hash', axis = 1, inplace = True) #son todas NaN"
   ]
  },
  {
   "cell_type": "code",
   "execution_count": 6,
   "metadata": {},
   "outputs": [],
   "source": [
    "clicks_dtypes = {'advertiser_id': np.int8, 'action_id': np.float16, 'source_id': np.int8, 'country_code': 'category',\n",
    "                 'latitude': np.float16, 'longitude': np.float16, 'carrier_id': np.float16, 'brand': np.float16,\n",
    "                 'touchX': np.float16, 'touchY': np.float16}\n",
    "\n",
    "clicks = pd.read_csv('clicks.csv', dtype = clicks_dtypes)\n",
    "\n",
    "clicks.drop('action_id', axis = 1, inplace = True) #todos NaN\n",
    "clicks.drop('wifi_connection', axis = 1, inplace = True) #todos False\n",
    "\n",
    "clicks[\"created\"] =  pd.to_datetime(clicks[\"created\"], errors = \"coerce\") #parseo de fechas"
   ]
  },
  {
   "cell_type": "markdown",
   "metadata": {},
   "source": [
    "## Tipos de eventos más realizados por los usuarios que convirtieron"
   ]
  },
  {
   "cell_type": "code",
   "execution_count": 7,
   "metadata": {},
   "outputs": [],
   "source": [
    "dispositivos_con_conversiones = list(installs['ref_hash'])"
   ]
  },
  {
   "cell_type": "code",
   "execution_count": 8,
   "metadata": {},
   "outputs": [],
   "source": [
    "eventos_usuarios_activos = events.loc[events['ref_hash'].isin(dispositivos_con_conversiones)]"
   ]
  },
  {
   "cell_type": "code",
   "execution_count": 9,
   "metadata": {},
   "outputs": [
    {
     "data": {
      "text/plain": [
       "42474"
      ]
     },
     "execution_count": 9,
     "metadata": {},
     "output_type": "execute_result"
    }
   ],
   "source": [
    "len(eventos_usuarios_activos)"
   ]
  },
  {
   "cell_type": "code",
   "execution_count": 10,
   "metadata": {},
   "outputs": [],
   "source": [
    "eventos_usuarios_activos = eventos_usuarios_activos.dropna(subset=['kind'])"
   ]
  },
  {
   "cell_type": "markdown",
   "metadata": {},
   "source": [
    "## Time to click promedio para las distintos clientes de Jampp (advertiser_id)"
   ]
  },
  {
   "cell_type": "markdown",
   "metadata": {},
   "source": [
    "## Time to click promedio para los distintos source id"
   ]
  },
  {
   "cell_type": "markdown",
   "metadata": {},
   "source": [
    "## Scatter Plot de latitud y longitud para los usuarios que realizaron conversiones"
   ]
  }
 ],
 "metadata": {
  "kernelspec": {
   "display_name": "Python 3",
   "language": "python",
   "name": "python3"
  },
  "language_info": {
   "codemirror_mode": {
    "name": "ipython",
    "version": 3
   },
   "file_extension": ".py",
   "mimetype": "text/x-python",
   "name": "python",
   "nbconvert_exporter": "python",
   "pygments_lexer": "ipython3",
   "version": "3.7.1"
  }
 },
 "nbformat": 4,
 "nbformat_minor": 2
}
