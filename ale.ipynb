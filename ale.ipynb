{
 "cells": [
  {
   "cell_type": "code",
   "execution_count": 1,
   "metadata": {},
   "outputs": [
    {
     "ename": "IndentationError",
     "evalue": "expected an indented block (<ipython-input-1-6e92cc2f6b63>, line 4)",
     "output_type": "error",
     "traceback": [
      "\u001b[0;36m  File \u001b[0;32m\"<ipython-input-1-6e92cc2f6b63>\"\u001b[0;36m, line \u001b[0;32m4\u001b[0m\n\u001b[0;31m    nueva_serie = []\u001b[0m\n\u001b[0m              ^\u001b[0m\n\u001b[0;31mIndentationError\u001b[0m\u001b[0;31m:\u001b[0m expected an indented block\n"
     ]
    }
   ],
   "source": []
  },
  {
   "cell_type": "code",
   "execution_count": null,
   "metadata": {},
   "outputs": [],
   "source": [
    "df_user_agent = installs.loc[(installs[\"implicit\"] == False) | (installs[\"implicit\"] == True),[\"user_agent\"]]\n",
    "\n",
    "def clasificar_user_agent(serie):\n",
    "    nueva_serie = []\n",
    "    for user_agent in serie.tolist():\n",
    "        if pd.isna(user_agent):\n",
    "        nueva_serie.append(\"Unknow-NaN\")\n",
    "    elif \"Android\" in user_agent:\n",
    "        nueva_serie.append(\"Android\")\n",
    "    elif (\"Darwin\" in user_agent) or (\"CFNetwork\" in user_agent):\n",
    "        nueva_serie.append(\"Iphone\")\n",
    "    else:\n",
    "        nueva_serie.append(\"Unknow\")\n",
    "    return nueva_serie\n",
    "\n",
    "df_user_agent[\"user_agent\"] = clasificar_user_agent(df_user_agent[\"user_agent\"])\n",
    "df_user_agent[\"user_agent\"].value_counts()"
   ]
  }
 ],
 "metadata": {
  "kernelspec": {
   "display_name": "Python 3",
   "language": "python",
   "name": "python3"
  },
  "language_info": {
   "codemirror_mode": {
    "name": "ipython",
    "version": 3
   },
   "file_extension": ".py",
   "mimetype": "text/x-python",
   "name": "python",
   "nbconvert_exporter": "python",
   "pygments_lexer": "ipython3",
   "version": "3.7.1"
  }
 },
 "nbformat": 4,
 "nbformat_minor": 2
}
