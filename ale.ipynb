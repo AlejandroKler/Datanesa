{
 "cells": [
  {
   "cell_type": "code",
   "execution_count": 1,
   "metadata": {},
   "outputs": [],
   "source": [
    "import pandas as pd\n",
    "import numpy as np"
   ]
  },
  {
   "cell_type": "code",
   "execution_count": 2,
   "metadata": {},
   "outputs": [],
   "source": [
    "installs_dtypes = {'application_id': 'category', 'ref_type': 'category', 'device_countrycode': 'category',\n",
    "                   'device_brand': 'category', 'device_model' : 'category', 'session_user_agent': 'category',\n",
    "                   'user_agent': 'category', 'kind': 'category', 'device_language': 'category'}\n",
    "\n",
    "installs = pd.read_csv('installs.csv', dtype = installs_dtypes)\n",
    "installs[\"created\"] =  pd.to_datetime(installs[\"created\"], errors = \"coerce\") #parseo de fechas\n",
    "installs.drop('attributed', axis = 1, inplace = True) #son todas false\n",
    "installs.drop('click_hash', axis = 1, inplace = True) #son todas NaN"
   ]
  },
  {
   "cell_type": "code",
   "execution_count": 3,
   "metadata": {},
   "outputs": [],
   "source": [
    "clicks_dtypes = {'advertiser': np.int8, 'action_id': np.float16, 'source_id': np.int8, 'country_code': 'category',\n",
    "                 'latitude': np.float16, 'longitude': np.float16, 'carrier_id': np.float16, 'brand': np.float16,\n",
    "                 'touchX': np.float16, 'touchY': np.float16}\n",
    "\n",
    "clicks = pd.read_csv('clicks.csv', dtype = clicks_dtypes)\n",
    "clicks[\"created\"] =  pd.to_datetime(clicks[\"created\"], errors = \"coerce\") #parseo de fechas\n",
    "clicks.drop('action_id', axis = 1, inplace = True) #todos NaN\n",
    "clicks.drop('wifi_connection', axis = 1, inplace = True) #todos False"
   ]
  },
  {
   "cell_type": "code",
   "execution_count": 4,
   "metadata": {},
   "outputs": [],
   "source": [
    "events_dtypes = {'event_id': 'category', 'ref_type': 'category', 'ref_hash': 'category', 'application_id': 'category',\n",
    "                   'attributed': 'category', 'device_countrycode': 'category', 'device_os_version': 'category',\n",
    "                   'device_brand' : 'category', 'device_model' : 'category', 'device_city': 'category', 'session_user_agent': 'category', 'user_agent': 'category', 'carrier': 'category',\n",
    "                   'kind': 'category', 'device_os' : 'category', 'wifi': 'category', 'connection_type': 'category',\n",
    "                   'device_language': 'category'}\n",
    "\n",
    "events = pd.read_csv('events.csv', dtype = events_dtypes, low_memory=False)\n",
    "\n",
    "events[\"date\"] =  pd.to_datetime(events[\"date\"], errors = \"coerce\")"
   ]
  },
  {
   "cell_type": "code",
   "execution_count": null,
   "metadata": {},
   "outputs": [],
   "source": [
    "auctions_dtypes = {'auction_type_id': np.float16, 'country': 'category', 'platform': 'category',\n",
    "                   'ref_type_id': 'category', 'source_id': 'category', 'device_id': 'category'}\n",
    "\n",
    "auctions = pd.read_csv('auctions.csv', dtype = auctions_dtypes)\n",
    "auctions[\"date\"] =  pd.to_datetime(auctions[\"date\"], errors = \"coerce\")\n",
    "auctions.drop('auction_type_id', axis = 1, inplace = True)  #todas Nan"
   ]
  },
  {
   "cell_type": "code",
   "execution_count": null,
   "metadata": {},
   "outputs": [],
   "source": []
  },
  {
   "cell_type": "markdown",
   "metadata": {},
   "source": [
    "# Analisis de user agent"
   ]
  },
  {
   "cell_type": "code",
   "execution_count": 74,
   "metadata": {},
   "outputs": [
    {
     "data": {
      "text/plain": [
       "Unknow     1663\n",
       "Android     958\n",
       "Iphone      791\n",
       "Name: os, dtype: int64"
      ]
     },
     "execution_count": 74,
     "metadata": {},
     "output_type": "execute_result"
    }
   ],
   "source": [
    "def clasificar_user_agent(serie_user_agent, serie_session_user_agent):\n",
    "    nueva_serie = []\n",
    "    lista_session = serie_session_user_agent.tolist()\n",
    "    for indice,user_agent in enumerate(serie_user_agent.tolist()):\n",
    "        if pd.isna(user_agent):\n",
    "            session = lista_session[indice]\n",
    "            if pd.isna(session):\n",
    "                nueva_serie.append(\"Unknow\")\n",
    "            elif \"Android\" in session:\n",
    "                nueva_serie.append(\"Android\")\n",
    "            elif \"iPhone\" in session:\n",
    "                nueva_serie.append(\"Iphone\")\n",
    "            else:\n",
    "                nueva_serie.append(\"Unknow\")\n",
    "        elif \"Android\" in user_agent:\n",
    "            nueva_serie.append(\"Android\")\n",
    "        elif (\"Darwin\" in user_agent) or (\"CFNetwork\" in user_agent):\n",
    "            nueva_serie.append(\"Iphone\")\n",
    "        else:\n",
    "            nueva_serie.append(\"Error\")\n",
    "    return nueva_serie\n",
    "\n",
    "installs[\"os\"] = clasificar_user_agent(installs[\"user_agent\"], installs[\"session_user_agent\"])\n",
    "installs[\"os\"].value_counts()"
   ]
  },
  {
   "cell_type": "code",
   "execution_count": 6,
   "metadata": {},
   "outputs": [
    {
     "data": {
      "text/plain": [
       "Index(['date', 'event_id', 'ref_type', 'ref_hash', 'application_id',\n",
       "       'attributed', 'device_countrycode', 'device_os_version', 'device_brand',\n",
       "       'device_model', 'device_city', 'session_user_agent', 'trans_id',\n",
       "       'user_agent', 'event_uuid', 'carrier', 'kind', 'device_os', 'wifi',\n",
       "       'connection_type', 'ip_address', 'device_language'],\n",
       "      dtype='object')"
      ]
     },
     "execution_count": 6,
     "metadata": {},
     "output_type": "execute_result"
    }
   ],
   "source": [
    "events.columns"
   ]
  },
  {
   "cell_type": "code",
   "execution_count": 40,
   "metadata": {},
   "outputs": [
    {
     "data": {
      "text/plain": [
       "<matplotlib.axes._subplots.AxesSubplot at 0x11cf75da0>"
      ]
     },
     "execution_count": 40,
     "metadata": {},
     "output_type": "execute_result"
    },
    {
     "data": {
      "image/png": "[encoded data removed]",
      "text/plain": [
       "<Figure size 1440x504 with 1 Axes>"
      ]
     },
     "metadata": {
      "needs_background": "light"
     },
     "output_type": "display_data"
    }
   ],
   "source": [
    "eventos_x_cantidad = pd.DataFrame(events[\"event_id\"].value_counts())\n",
    "eventos_x_cantidad.rename(columns={'event_id':'cantidad'}, inplace=True)\n",
    "eventos_x_cantidad[\"event_id\"] = eventos_x_cantidad.index\n",
    "eventos_x_cantidad = eventos_x_cantidad[(eventos_x_cantidad[\"cantidad\"] < 10000) & (eventos_x_cantidad[\"cantidad\"] > 1000)]\n",
    "eventos_x_cantidad.plot(kind=\"bar\", figsize=(20,7))"
   ]
  },
  {
   "cell_type": "code",
   "execution_count": 53,
   "metadata": {},
   "outputs": [
    {
     "data": {
      "text/plain": [
       "3.819516403548394e+18     1461049\n",
       "7.164321382499455e+18      649962\n",
       "1.1609515031332844e+18      78232\n",
       "2.394269162455642e+18       11210\n",
       "3.8316191210585426e+18      10838\n",
       "6.59386819643465e+18         9911\n",
       "2.4958048761062277e+18       7391\n",
       "7.512089018183668e+18        6995\n",
       "7.738334399785623e+18        6770\n",
       "7.72027024220892e+18         6626\n",
       "5.254247406123229e+18        6450\n",
       "4.3922650149309645e+18       5998\n",
       "9.177081431590678e+18        5615\n",
       "1.2440622242452342e+18       5525\n",
       "3.5907478428344975e+18       5448\n",
       "6.840860440298272e+18        5055\n",
       "1.637986409760501e+18        4872\n",
       "5.407281900521064e+18        4619\n",
       "5.51960942967474e+18         3914\n",
       "4.525726530677256e+18        3724\n",
       "4.47207748927856e+18         3657\n",
       "4.185911564152913e+18        3436\n",
       "6.10522694935703e+18         3412\n",
       "8.089178157941562e+18        3326\n",
       "2.9554935318608517e+18       3267\n",
       "4.2591543230719636e+18       3194\n",
       "4.455209013830674e+18        3008\n",
       "6.36894744937942e+18         3004\n",
       "6.091499354492879e+18        2755\n",
       "8.22734456809323e+18         2496\n",
       "                           ...   \n",
       "8.291781114496634e+18           1\n",
       "4.2854398786647014e+18          1\n",
       "4.2858344010022313e+18          1\n",
       "1.745912802962802e+18           1\n",
       "5.128595661310458e+18           1\n",
       "4.1477376623044413e+18          1\n",
       "8.112828111553696e+18           1\n",
       "4.141930116424146e+18           1\n",
       "7.706783123009578e+18           1\n",
       "7.714234864674884e+18           1\n",
       "3.9313824666429164e+18          1\n",
       "7.743672428192813e+18           1\n",
       "5.546111160207971e+18           1\n",
       "2.395858567640145e+17           1\n",
       "7.769013320635031e+17           1\n",
       "5.521894755066535e+18           1\n",
       "5.506527484202837e+18           1\n",
       "5.393782093738528e+18           1\n",
       "5.365870703704118e+18           1\n",
       "5.358395728783443e+17           1\n",
       "2.2036176946944397e+18          1\n",
       "7.906814782834784e+18           1\n",
       "5.326637325661786e+18           1\n",
       "5.306546772094777e+18           1\n",
       "5.298184362875409e+18           1\n",
       "5.248756483379488e+18           1\n",
       "8.00923162034235e+18            1\n",
       "5.195155892062609e+18           1\n",
       "8.103796227612609e+18           1\n",
       "2.2992926186439444e+18          1\n",
       "Name: session_user_agent, Length: 1460, dtype: int64"
      ]
     },
     "execution_count": 53,
     "metadata": {},
     "output_type": "execute_result"
    }
   ],
   "source": [
    "events[\"session_user_agent\"].value_counts()"
   ]
  },
  {
   "cell_type": "code",
   "execution_count": 56,
   "metadata": {},
   "outputs": [
    {
     "data": {
      "text/plain": [
       "adjust.com                                                                                                                                                                                                                                                                    1592\n",
       "HasOffers Mobile AppTracking v1.0                                                                                                                                                                                                                                               22\n",
       "Mozilla/5.0 (iPhone; CPU iPhone OS 12_1_4 like Mac OS X) AppleWebKit/605.1.15 (KHTML, like Gecko) Version/12.0 Mobile/15E148 Safari/604.1                                                                                                                                       10\n",
       "Mozilla/5.0 (iPhone; CPU iPhone OS 12_1 like Mac OS X) AppleWebKit/605.1.15 (KHTML, like Gecko) CriOS/72.0.3626.101 Mobile/15E148 Safari/605.1                                                                                                                                   3\n",
       "Mozilla/5.0 (iPhone; CPU iPhone OS 12_1_2 like Mac OS X) AppleWebKit/605.1.15 (KHTML, like Gecko) Version/12.0 Mobile/15E148 Safari/604.1                                                                                                                                        2\n",
       "Mozilla/5.0 (iPhone; CPU iPhone OS 12_1_2 like Mac OS X) AppleWebKit/605.1.15 (KHTML, like Gecko) Mobile/16C101 [FBAN/FBIOS;FBAV/208.0.0.48.103;FBBV/141927594;FBDV/iPhone9,3;FBMD/iPhone;FBSN/iOS;FBSV/12.1.2;FBSS/2;FBCR/O2;FBID/phone;FBLC/en_GB;FBOP/5;FBRV/143280066]       1\n",
       "Mozilla/5.0 (iPhone; CPU iPhone OS 12_1 like Mac OS X) AppleWebKit/605.1.15 (KHTML, like Gecko) GSA/68.0.234683655 Mobile/15E148 Safari/605.1                                                                                                                                    1\n",
       "Mozilla/5.0 (iPhone; CPU iPhone OS 11_4_1 like Mac OS X) AppleWebKit/605.1.15 (KHTML, like Gecko) Version/11.0 Mobile/15E148 Safari/604.1                                                                                                                                        1\n",
       "Mozilla/5.0 (iPhone; CPU iPhone OS 11_2_6 like Mac OS X) AppleWebKit/604.5.6 (KHTML, like Gecko) Version/11.0 Mobile/15D100 Safari/604.1                                                                                                                                         1\n",
       "Mozilla/5.0 (iPad; CPU OS 12_1_4 like Mac OS X) AppleWebKit/605.1.15 (KHTML, like Gecko) Version/12.0 Mobile/15E148 Safari/604.1                                                                                                                                                 1\n",
       "Mozilla/5.0 (Linux; Android 6.0; ALE-L23) AppleWebKit/537.36 (KHTML, like Gecko) Chrome/72.0.3626.105 Mobile Safari/537.36                                                                                                                                                       1\n",
       "http-kit/2.0                                                                                                                                                                                                                                                                     0\n",
       "Name: session_user_agent, dtype: int64"
      ]
     },
     "execution_count": 56,
     "metadata": {},
     "output_type": "execute_result"
    }
   ],
   "source": [
    "installs.loc[pd.isna(installs[\"user_agent\"])][\"session_user_agent\"].value_counts()"
   ]
  },
  {
   "cell_type": "code",
   "execution_count": 62,
   "metadata": {},
   "outputs": [
    {
     "data": {
      "text/plain": [
       "2       NaN\n",
       "4       NaN\n",
       "6       NaN\n",
       "8       NaN\n",
       "940     NaN\n",
       "944     NaN\n",
       "945     NaN\n",
       "946     NaN\n",
       "947     NaN\n",
       "2157    NaN\n",
       "2359    NaN\n",
       "2362    NaN\n",
       "2364    NaN\n",
       "2368    NaN\n",
       "2372    NaN\n",
       "2373    NaN\n",
       "2473    NaN\n",
       "2475    NaN\n",
       "2478    NaN\n",
       "2482    NaN\n",
       "2486    NaN\n",
       "2489    NaN\n",
       "Name: user_agent, dtype: category\n",
       "Categories (334, object): [Dalvik/1.6.0 (Linux; U; Android 4.1.2; GT-I826..., Dalvik/1.6.0 (Linux; U; Android 4.1.2; GT-I855..., Dalvik/1.6.0 (Linux; U; Android 4.1.2; GT-N800..., Dalvik/1.6.0 (Linux; U; Android 4.1.2; LG-E475..., ..., PeixeUrbano/2 CFNetwork/894 Darwin/17.4.0, PeixeUrbano/2 CFNetwork/902.2 Darwin/17.7.0, PeixeUrbano/2 CFNetwork/976 Darwin/18.2.0, takealot/201812181130 CFNetwork/976 Darwin/18.2.0]"
      ]
     },
     "execution_count": 62,
     "metadata": {},
     "output_type": "execute_result"
    }
   ],
   "source": [
    "installs"
   ]
  },
  {
   "cell_type": "code",
   "execution_count": null,
   "metadata": {},
   "outputs": [],
   "source": []
  },
  {
   "cell_type": "code",
   "execution_count": null,
   "metadata": {},
   "outputs": [],
   "source": []
  },
  {
   "cell_type": "code",
   "execution_count": null,
   "metadata": {},
   "outputs": [],
   "source": []
  }
 ],
 "metadata": {
  "kernelspec": {
   "display_name": "Python 3",
   "language": "python",
   "name": "python3"
  },
  "language_info": {
   "codemirror_mode": {
    "name": "ipython",
    "version": 3
   },
   "file_extension": ".py",
   "mimetype": "text/x-python",
   "name": "python",
   "nbconvert_exporter": "python",
   "pygments_lexer": "ipython3",
   "version": "3.7.1"
  }
 },
 "nbformat": 4,
 "nbformat_minor": 2
}
