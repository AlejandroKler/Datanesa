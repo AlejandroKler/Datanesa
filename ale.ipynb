{
 "cells": [
  {
   "cell_type": "code",
   "execution_count": 1,
   "metadata": {},
   "outputs": [],
   "source": [
    "import pandas as pd\n",
    "import numpy as np\n",
    "import matplotlib.pyplot as plt"
   ]
  },
  {
   "cell_type": "code",
   "execution_count": null,
   "metadata": {},
   "outputs": [],
   "source": [
    "import plotly\n",
    "plotly.offline.init_notebook_mode(connected=True)\n",
    "import plotly.offline as py\n",
    "import plotly.graph_objs as go"
   ]
  },
  {
   "cell_type": "code",
   "execution_count": 2,
   "metadata": {},
   "outputs": [],
   "source": [
    "installs_dtypes = {'application_id': 'category', 'kind': 'category'}\n",
    "\n",
    "installs = pd.read_csv('installs.csv', dtype = installs_dtypes)\n",
    "installs[\"created\"] =  pd.to_datetime(installs[\"created\"], errors = \"coerce\") #parseo de fechas\n",
    "installs.drop('attributed', axis = 1, inplace = True) #son todas false\n",
    "installs.drop('click_hash', axis = 1, inplace = True) #son todas NaN"
   ]
  },
  {
   "cell_type": "code",
   "execution_count": 3,
   "metadata": {},
   "outputs": [],
   "source": [
    "clicks_dtypes = {'advertiser': np.int8, 'action_id': np.float16, 'source_id': np.int8, 'country_code': 'category',\n",
    "                 'latitude': np.float16, 'longitude': np.float16, 'carrier_id': np.float16, 'brand': np.float16,\n",
    "                 'touchX': np.float16, 'touchY': np.float16}\n",
    "\n",
    "clicks = pd.read_csv('clicks.csv', dtype = clicks_dtypes)\n",
    "clicks[\"created\"] =  pd.to_datetime(clicks[\"created\"], errors = \"coerce\") #parseo de fechas\n",
    "clicks.drop('action_id', axis = 1, inplace = True) #todos NaN\n",
    "clicks.drop('wifi_connection', axis = 1, inplace = True) #todos False"
   ]
  },
  {
   "cell_type": "code",
   "execution_count": 4,
   "metadata": {},
   "outputs": [],
   "source": [
    "events = pd.read_csv('events.csv', low_memory=False)\n",
    "\n",
    "events[\"date\"] =  pd.to_datetime(events[\"date\"], errors = \"coerce\")"
   ]
  },
  {
   "cell_type": "code",
   "execution_count": 5,
   "metadata": {},
   "outputs": [],
   "source": [
    "auctions = pd.read_csv('auctions.csv')\n",
    "auctions[\"date\"] =  pd.to_datetime(auctions[\"date\"], errors = \"coerce\")\n",
    "auctions.drop('auction_type_id', axis = 1, inplace = True)  #todas Nan"
   ]
  },
  {
   "cell_type": "code",
   "execution_count": null,
   "metadata": {},
   "outputs": [],
   "source": []
  },
  {
   "cell_type": "markdown",
   "metadata": {},
   "source": [
    "# Analisis de user agent"
   ]
  },
  {
   "cell_type": "code",
   "execution_count": 13,
   "metadata": {},
   "outputs": [
    {
     "data": {
      "text/plain": [
       "Index(['created', 'application_id', 'ref_type', 'ref_hash', 'implicit',\n",
       "       'device_countrycode', 'device_brand', 'device_model',\n",
       "       'session_user_agent', 'user_agent', 'event_uuid', 'kind', 'wifi',\n",
       "       'trans_id', 'ip_address', 'device_language', 'os'],\n",
       "      dtype='object')"
      ]
     },
     "execution_count": 13,
     "metadata": {},
     "output_type": "execute_result"
    }
   ],
   "source": [
    "installs.columns"
   ]
  },
  {
   "cell_type": "code",
   "execution_count": 14,
   "metadata": {},
   "outputs": [
    {
     "data": {
      "text/plain": [
       "Index(['date', 'event_id', 'ref_type', 'ref_hash', 'application_id',\n",
       "       'attributed', 'device_countrycode', 'device_os_version', 'device_brand',\n",
       "       'device_model', 'device_city', 'session_user_agent', 'trans_id',\n",
       "       'user_agent', 'event_uuid', 'carrier', 'kind', 'device_os', 'wifi',\n",
       "       'connection_type', 'ip_address', 'device_language'],\n",
       "      dtype='object')"
      ]
     },
     "execution_count": 14,
     "metadata": {},
     "output_type": "execute_result"
    }
   ],
   "source": [
    "events.columns"
   ]
  },
  {
   "cell_type": "code",
   "execution_count": 15,
   "metadata": {},
   "outputs": [
    {
     "data": {
      "text/plain": [
       "Index(['country', 'date', 'device_id', 'platform', 'ref_type_id', 'source_id'], dtype='object')"
      ]
     },
     "execution_count": 15,
     "metadata": {},
     "output_type": "execute_result"
    }
   ],
   "source": [
    "auctions.columns"
   ]
  },
  {
   "cell_type": "code",
   "execution_count": 16,
   "metadata": {},
   "outputs": [
    {
     "data": {
      "text/plain": [
       "Index(['advertiser_id', 'source_id', 'created', 'country_code', 'latitude',\n",
       "       'longitude', 'carrier_id', 'trans_id', 'os_minor', 'agent_device',\n",
       "       'os_major', 'specs_brand', 'brand', 'timeToClick', 'touchX', 'touchY',\n",
       "       'ref_type', 'ref_hash'],\n",
       "      dtype='object')"
      ]
     },
     "execution_count": 16,
     "metadata": {},
     "output_type": "execute_result"
    }
   ],
   "source": [
    "clicks.columns"
   ]
  },
  {
   "cell_type": "code",
   "execution_count": 17,
   "metadata": {},
   "outputs": [
    {
     "data": {
      "text/plain": [
       "False    2547\n",
       "True      865\n",
       "Name: implicit, dtype: int64"
      ]
     },
     "execution_count": 17,
     "metadata": {},
     "output_type": "execute_result"
    }
   ],
   "source": [
    "installs.implicit.value_counts()"
   ]
  },
  {
   "cell_type": "code",
   "execution_count": null,
   "metadata": {},
   "outputs": [],
   "source": []
  },
  {
   "cell_type": "code",
   "execution_count": null,
   "metadata": {},
   "outputs": [],
   "source": []
  },
  {
   "cell_type": "code",
   "execution_count": null,
   "metadata": {},
   "outputs": [],
   "source": []
  },
  {
   "cell_type": "code",
   "execution_count": null,
   "metadata": {},
   "outputs": [],
   "source": []
  },
  {
   "cell_type": "code",
   "execution_count": null,
   "metadata": {},
   "outputs": [],
   "source": []
  },
  {
   "cell_type": "code",
   "execution_count": null,
   "metadata": {},
   "outputs": [],
   "source": []
  },
  {
   "cell_type": "code",
   "execution_count": null,
   "metadata": {},
   "outputs": [],
   "source": []
  },
  {
   "cell_type": "code",
   "execution_count": null,
   "metadata": {},
   "outputs": [],
   "source": []
  },
  {
   "cell_type": "code",
   "execution_count": null,
   "metadata": {},
   "outputs": [],
   "source": []
  },
  {
   "cell_type": "code",
   "execution_count": null,
   "metadata": {},
   "outputs": [],
   "source": []
  },
  {
   "cell_type": "code",
   "execution_count": null,
   "metadata": {},
   "outputs": [],
   "source": []
  },
  {
   "cell_type": "code",
   "execution_count": null,
   "metadata": {},
   "outputs": [],
   "source": []
  },
  {
   "cell_type": "code",
   "execution_count": null,
   "metadata": {},
   "outputs": [],
   "source": []
  },
  {
   "cell_type": "code",
   "execution_count": null,
   "metadata": {},
   "outputs": [],
   "source": []
  },
  {
   "cell_type": "code",
   "execution_count": 20,
   "metadata": {},
   "outputs": [],
   "source": [
    "def obtener_grafo(df):\n",
    "    df_from = []\n",
    "    df_to = []\n",
    "    last_event = None\n",
    "    last_ref = None\n",
    "    for a,row in df.iterrows():\n",
    "        event = row[\"event_id\"]\n",
    "        ref = row[\"ref_hash\"]\n",
    "        \n",
    "        if ref != last_ref:\n",
    "            event == None\n",
    "        elif(event and event != last_event):\n",
    "            df_from.append(last_event)\n",
    "            df_to.append(event)\n",
    "        \n",
    "        last_ref = ref\n",
    "        last_event = event\n",
    "    return pd.DataFrame({\"from\":df_from,\"to\":df_to}).drop_duplicates()\n",
    "        "
   ]
  },
  {
   "cell_type": "code",
   "execution_count": null,
   "metadata": {},
   "outputs": [],
   "source": []
  },
  {
   "cell_type": "code",
   "execution_count": 21,
   "metadata": {},
   "outputs": [
    {
     "data": {
      "text/html": [
       "<div>\n",
       "<style scoped>\n",
       "    .dataframe tbody tr th:only-of-type {\n",
       "        vertical-align: middle;\n",
       "    }\n",
       "\n",
       "    .dataframe tbody tr th {\n",
       "        vertical-align: top;\n",
       "    }\n",
       "\n",
       "    .dataframe thead th {\n",
       "        text-align: right;\n",
       "    }\n",
       "</style>\n",
       "<table border=\"1\" class=\"dataframe\">\n",
       "  <thead>\n",
       "    <tr style=\"text-align: right;\">\n",
       "      <th></th>\n",
       "      <th>from</th>\n",
       "      <th>to</th>\n",
       "    </tr>\n",
       "  </thead>\n",
       "  <tbody>\n",
       "    <tr>\n",
       "      <th>0</th>\n",
       "      <td>82</td>\n",
       "      <td>1</td>\n",
       "    </tr>\n",
       "    <tr>\n",
       "      <th>1</th>\n",
       "      <td>1</td>\n",
       "      <td>82</td>\n",
       "    </tr>\n",
       "    <tr>\n",
       "      <th>2</th>\n",
       "      <td>82</td>\n",
       "      <td>81</td>\n",
       "    </tr>\n",
       "  </tbody>\n",
       "</table>\n",
       "</div>"
      ],
      "text/plain": [
       "   from  to\n",
       "0    82   1\n",
       "1     1  82\n",
       "2    82  81"
      ]
     },
     "execution_count": 21,
     "metadata": {},
     "output_type": "execute_result"
    }
   ],
   "source": [
    "grafo_eventos = events.loc[events['ref_hash'].isin(installs[\"ref_hash\"].unique()),[\"date\",\"event_id\",\"ref_hash\"]]\n",
    "grafo_eventos.sort_values(\"date\",inplace=True)\n",
    "grafo_eventos.sort_values(\"ref_hash\",inplace=True)\n",
    "grafo_eventos_aristas = obtener_grafo(grafo_eventos)\n",
    "grafo_eventos_aristas.head(3)"
   ]
  },
  {
   "cell_type": "code",
   "execution_count": null,
   "metadata": {},
   "outputs": [],
   "source": []
  },
  {
   "cell_type": "code",
   "execution_count": null,
   "metadata": {},
   "outputs": [],
   "source": []
  },
  {
   "cell_type": "code",
   "execution_count": 25,
   "metadata": {},
   "outputs": [
    {
     "data": {
      "image/png": "[encoded data removed]",
      "text/plain": [
       "<Figure size 1080x1080 with 1 Axes>"
      ]
     },
     "metadata": {},
     "output_type": "display_data"
    }
   ],
   "source": [
    "import networkx as nx\n",
    " \n",
    "G=nx.from_pandas_edgelist(grafo_eventos_aristas, 'from', 'to')\n",
    "plt.figure(figsize=(15,15)) \n",
    "nx.draw(G, alpha=0.8, node_size=500, width=0.4, node_color=\"darkred\",font_color=\"white\", font_weight=\"bold\",with_labels=True)\n",
    "plt.title(\"Interacción de eventos\",size=20)\n",
    "plt.show()"
   ]
  },
  {
   "cell_type": "code",
   "execution_count": null,
   "metadata": {},
   "outputs": [],
   "source": []
  },
  {
   "cell_type": "code",
   "execution_count": null,
   "metadata": {},
   "outputs": [],
   "source": []
  },
  {
   "cell_type": "code",
   "execution_count": null,
   "metadata": {},
   "outputs": [],
   "source": []
  },
  {
   "cell_type": "code",
   "execution_count": 23,
   "metadata": {},
   "outputs": [
    {
     "data": {
      "image/png": "[encoded data removed]",
      "text/plain": [
       "<Figure size 432x288 with 1 Axes>"
      ]
     },
     "metadata": {
      "needs_background": "light"
     },
     "output_type": "display_data"
    }
   ],
   "source": [
    "N = 24\n",
    "bottom = 4\n",
    "max_height = 10\n",
    "\n",
    "radii = [2,3,5,1,8,6,4,2,2,9,7,3,5,8,4] \n",
    "theta = np.linspace(0.0, 2 * np.pi, len(radii), endpoint=False)\n",
    "width = (2*np.pi) / len(radii)\n",
    "\n",
    "ax = plt.subplot(111, polar=True)\n",
    "bars = ax.bar(theta, radii, width=width, bottom=bottom)\n",
    "ax.set_yticklabels([])\n",
    "ax.set_theta_direction(-1)\n",
    "ax.set_theta_zero_location(\"N\")\n",
    "ax.set_xticklabels(['0:00', '3:00', '6:00', '9:00', '12:00', '15:00', '18:00', '21:00'])\n",
    "\n",
    "plt.show()"
   ]
  },
  {
   "cell_type": "code",
   "execution_count": 74,
   "metadata": {},
   "outputs": [
    {
     "data": {
      "application/vnd.plotly.v1+json": {
       "config": {
        "linkText": "Export to plot.ly",
        "plotlyServerURL": "https://plot.ly",
        "showLink": false
       },
       "data": [
        {
         "hole": 0.5,
         "labels": [
          "No implicito",
          "Implicito"
         ],
         "type": "pie",
         "uid": "01e162fb-00ea-4c93-b00d-77a17807696b",
         "values": [
          2547,
          865
         ]
        }
       ],
       "layout": {
        "annotations": [
         {
          "font": {
           "size": 20
          },
          "showarrow": false,
          "text": "Installs"
         }
        ],
        "title": {
         "text": "Porcentaje de installs implícito"
        }
       }
      },
      "text/html": [
       "<div id=\"1dc07285-69b1-4375-b32f-c5040f165184\" style=\"height: 525px; width: 100%;\" class=\"plotly-graph-div\"></div><script type=\"text/javascript\">require([\"plotly\"], function(Plotly) { window.PLOTLYENV=window.PLOTLYENV || {};window.PLOTLYENV.BASE_URL=\"https://plot.ly\";\n",
       "if (document.getElementById(\"1dc07285-69b1-4375-b32f-c5040f165184\")) {\n",
       "    Plotly.newPlot(\"1dc07285-69b1-4375-b32f-c5040f165184\", [{\"hole\": 0.5, \"labels\": [\"No implicito\", \"Implicito\"], \"values\": [2547, 865], \"type\": \"pie\", \"uid\": \"da29c8ca-b827-4811-9666-84cf59476590\"}], {\"annotations\": [{\"font\": {\"size\": 20}, \"showarrow\": false, \"text\": \"Installs\"}], \"title\": {\"text\": \"Porcentaje de installs impl\\u00edcito\"}}, {\"showLink\": false, \"linkText\": \"Export to plot.ly\", \"plotlyServerURL\": \"https://plot.ly\"}); \n",
       "}\n",
       "});</script><script type=\"text/javascript\">window.addEventListener(\"resize\", function(){if (document.getElementById(\"1dc07285-69b1-4375-b32f-c5040f165184\")) {window._Plotly.Plots.resize(document.getElementById(\"1dc07285-69b1-4375-b32f-c5040f165184\"));};})</script>"
      ],
      "text/vnd.plotly.v1+html": [
       "<div id=\"1dc07285-69b1-4375-b32f-c5040f165184\" style=\"height: 525px; width: 100%;\" class=\"plotly-graph-div\"></div><script type=\"text/javascript\">require([\"plotly\"], function(Plotly) { window.PLOTLYENV=window.PLOTLYENV || {};window.PLOTLYENV.BASE_URL=\"https://plot.ly\";\n",
       "if (document.getElementById(\"1dc07285-69b1-4375-b32f-c5040f165184\")) {\n",
       "    Plotly.newPlot(\"1dc07285-69b1-4375-b32f-c5040f165184\", [{\"hole\": 0.5, \"labels\": [\"No implicito\", \"Implicito\"], \"values\": [2547, 865], \"type\": \"pie\", \"uid\": \"da29c8ca-b827-4811-9666-84cf59476590\"}], {\"annotations\": [{\"font\": {\"size\": 20}, \"showarrow\": false, \"text\": \"Installs\"}], \"title\": {\"text\": \"Porcentaje de installs impl\\u00edcito\"}}, {\"showLink\": false, \"linkText\": \"Export to plot.ly\", \"plotlyServerURL\": \"https://plot.ly\"}); \n",
       "}\n",
       "});</script><script type=\"text/javascript\">window.addEventListener(\"resize\", function(){if (document.getElementById(\"1dc07285-69b1-4375-b32f-c5040f165184\")) {window._Plotly.Plots.resize(document.getElementById(\"1dc07285-69b1-4375-b32f-c5040f165184\"));};})</script>"
      ]
     },
     "metadata": {},
     "output_type": "display_data"
    }
   ],
   "source": [
    "fig = {\n",
    "  \"data\": [\n",
    "    {\n",
    "      \"values\": installs[\"implicit\"].value_counts(),\n",
    "      \"labels\": [\n",
    "        \"No implicito\",\n",
    "          \"Implicito\"\n",
    "      ],\n",
    "      \"hole\": .5,\n",
    "      \"type\": \"pie\"\n",
    "    }],\n",
    "  \"layout\": {\n",
    "        \"title\":\"Porcentaje de installs implícito\",\n",
    "        \"annotations\": [\n",
    "            {\n",
    "                \"font\": {\n",
    "                    \"size\": 20\n",
    "                },\n",
    "                \"showarrow\": False,\n",
    "                \"text\": \"Installs\"\n",
    "            }\n",
    "        ]\n",
    "    }\n",
    "}\n",
    "py.offline.iplot(fig)"
   ]
  },
  {
   "cell_type": "code",
   "execution_count": null,
   "metadata": {},
   "outputs": [],
   "source": []
  },
  {
   "cell_type": "code",
   "execution_count": 126,
   "metadata": {},
   "outputs": [
    {
     "data": {
      "text/html": [
       "<div>\n",
       "<style scoped>\n",
       "    .dataframe tbody tr th:only-of-type {\n",
       "        vertical-align: middle;\n",
       "    }\n",
       "\n",
       "    .dataframe tbody tr th {\n",
       "        vertical-align: top;\n",
       "    }\n",
       "\n",
       "    .dataframe thead th {\n",
       "        text-align: right;\n",
       "    }\n",
       "</style>\n",
       "<table border=\"1\" class=\"dataframe\">\n",
       "  <thead>\n",
       "    <tr style=\"text-align: right;\">\n",
       "      <th></th>\n",
       "      <th>ref_hash</th>\n",
       "      <th>application_id</th>\n",
       "      <th>created</th>\n",
       "      <th>index</th>\n",
       "    </tr>\n",
       "  </thead>\n",
       "  <tbody>\n",
       "    <tr>\n",
       "      <th>0</th>\n",
       "      <td>4958526679100225</td>\n",
       "      <td>10</td>\n",
       "      <td>2019-03-09 15:24:03.123</td>\n",
       "      <td>0</td>\n",
       "    </tr>\n",
       "    <tr>\n",
       "      <th>1</th>\n",
       "      <td>5610335643679608</td>\n",
       "      <td>7</td>\n",
       "      <td>2019-03-08 23:56:00.134</td>\n",
       "      <td>1</td>\n",
       "    </tr>\n",
       "    <tr>\n",
       "      <th>2</th>\n",
       "      <td>12589600065022004</td>\n",
       "      <td>8</td>\n",
       "      <td>2019-03-11 03:01:40.186</td>\n",
       "      <td>2</td>\n",
       "    </tr>\n",
       "    <tr>\n",
       "      <th>3</th>\n",
       "      <td>13755514797422075</td>\n",
       "      <td>7</td>\n",
       "      <td>2019-03-11 22:13:03.705</td>\n",
       "      <td>3</td>\n",
       "    </tr>\n",
       "    <tr>\n",
       "      <th>4</th>\n",
       "      <td>14817751128061288</td>\n",
       "      <td>7</td>\n",
       "      <td>2019-03-13 02:43:14.119</td>\n",
       "      <td>4</td>\n",
       "    </tr>\n",
       "  </tbody>\n",
       "</table>\n",
       "</div>"
      ],
      "text/plain": [
       "            ref_hash application_id                 created  index\n",
       "0   4958526679100225             10 2019-03-09 15:24:03.123      0\n",
       "1   5610335643679608              7 2019-03-08 23:56:00.134      1\n",
       "2  12589600065022004              8 2019-03-11 03:01:40.186      2\n",
       "3  13755514797422075              7 2019-03-11 22:13:03.705      3\n",
       "4  14817751128061288              7 2019-03-13 02:43:14.119      4"
      ]
     },
     "execution_count": 126,
     "metadata": {},
     "output_type": "execute_result"
    }
   ],
   "source": [
    "cant_horas_anteriores = 48\n",
    "installs_to_join = installs.loc[ installs[\"created\"] > pd.to_datetime(\"2019-03-06\") , [\"ref_hash\",\"application_id\",\"created\"]]\n",
    "installs_to_join = installs_to_join.groupby([\"ref_hash\",\"application_id\"]).agg({\"created\":\"min\"}).reset_index()\n",
    "installs_to_join[\"index\"] = installs_to_join.index\n",
    "installs_to_join.head()"
   ]
  },
  {
   "cell_type": "code",
   "execution_count": 127,
   "metadata": {},
   "outputs": [
    {
     "data": {
      "text/html": [
       "<div>\n",
       "<style scoped>\n",
       "    .dataframe tbody tr th:only-of-type {\n",
       "        vertical-align: middle;\n",
       "    }\n",
       "\n",
       "    .dataframe tbody tr th {\n",
       "        vertical-align: top;\n",
       "    }\n",
       "\n",
       "    .dataframe thead th {\n",
       "        text-align: right;\n",
       "    }\n",
       "</style>\n",
       "<table border=\"1\" class=\"dataframe\">\n",
       "  <thead>\n",
       "    <tr style=\"text-align: right;\">\n",
       "      <th></th>\n",
       "      <th></th>\n",
       "      <th>ref_hash</th>\n",
       "    </tr>\n",
       "    <tr>\n",
       "      <th>device_id</th>\n",
       "      <th>index</th>\n",
       "      <th></th>\n",
       "    </tr>\n",
       "  </thead>\n",
       "  <tbody>\n",
       "    <tr>\n",
       "      <th>5610335643679608</th>\n",
       "      <th>1</th>\n",
       "      <td>11</td>\n",
       "    </tr>\n",
       "    <tr>\n",
       "      <th>17437441331211593</th>\n",
       "      <th>5</th>\n",
       "      <td>3</td>\n",
       "    </tr>\n",
       "    <tr>\n",
       "      <th>61509282915612682</th>\n",
       "      <th>16</th>\n",
       "      <td>1</td>\n",
       "    </tr>\n",
       "    <tr>\n",
       "      <th>67443465839184775</th>\n",
       "      <th>21</th>\n",
       "      <td>1</td>\n",
       "    </tr>\n",
       "    <tr>\n",
       "      <th>107282684840551622</th>\n",
       "      <th>28</th>\n",
       "      <td>9</td>\n",
       "    </tr>\n",
       "    <tr>\n",
       "      <th>157459470245260333</th>\n",
       "      <th>41</th>\n",
       "      <td>41</td>\n",
       "    </tr>\n",
       "    <tr>\n",
       "      <th>160121067220545379</th>\n",
       "      <th>42</th>\n",
       "      <td>1</td>\n",
       "    </tr>\n",
       "    <tr>\n",
       "      <th>160554803047968753</th>\n",
       "      <th>43</th>\n",
       "      <td>19</td>\n",
       "    </tr>\n",
       "    <tr>\n",
       "      <th>176630767202084993</th>\n",
       "      <th>48</th>\n",
       "      <td>4</td>\n",
       "    </tr>\n",
       "    <tr>\n",
       "      <th>183174899986188898</th>\n",
       "      <th>50</th>\n",
       "      <td>1</td>\n",
       "    </tr>\n",
       "    <tr>\n",
       "      <th>200820115670092879</th>\n",
       "      <th>52</th>\n",
       "      <td>9</td>\n",
       "    </tr>\n",
       "    <tr>\n",
       "      <th>252300740312136681</th>\n",
       "      <th>65</th>\n",
       "      <td>5</td>\n",
       "    </tr>\n",
       "    <tr>\n",
       "      <th>256086065584233965</th>\n",
       "      <th>68</th>\n",
       "      <td>10</td>\n",
       "    </tr>\n",
       "    <tr>\n",
       "      <th>259891827588493943</th>\n",
       "      <th>71</th>\n",
       "      <td>5</td>\n",
       "    </tr>\n",
       "    <tr>\n",
       "      <th>260891103561313147</th>\n",
       "      <th>72</th>\n",
       "      <td>1</td>\n",
       "    </tr>\n",
       "    <tr>\n",
       "      <th>307388789315223929</th>\n",
       "      <th>85</th>\n",
       "      <td>5</td>\n",
       "    </tr>\n",
       "    <tr>\n",
       "      <th>309417754443446196</th>\n",
       "      <th>88</th>\n",
       "      <td>224</td>\n",
       "    </tr>\n",
       "    <tr>\n",
       "      <th>360067477084488390</th>\n",
       "      <th>98</th>\n",
       "      <td>3</td>\n",
       "    </tr>\n",
       "    <tr>\n",
       "      <th>364656448282328990</th>\n",
       "      <th>99</th>\n",
       "      <td>1</td>\n",
       "    </tr>\n",
       "    <tr>\n",
       "      <th>381947835592833316</th>\n",
       "      <th>104</th>\n",
       "      <td>14</td>\n",
       "    </tr>\n",
       "    <tr>\n",
       "      <th>393140577881729226</th>\n",
       "      <th>108</th>\n",
       "      <td>58</td>\n",
       "    </tr>\n",
       "    <tr>\n",
       "      <th>394181128078904930</th>\n",
       "      <th>109</th>\n",
       "      <td>23</td>\n",
       "    </tr>\n",
       "    <tr>\n",
       "      <th>401691147249727559</th>\n",
       "      <th>112</th>\n",
       "      <td>4</td>\n",
       "    </tr>\n",
       "    <tr>\n",
       "      <th>411566167561219946</th>\n",
       "      <th>114</th>\n",
       "      <td>1</td>\n",
       "    </tr>\n",
       "    <tr>\n",
       "      <th>432026705480919604</th>\n",
       "      <th>118</th>\n",
       "      <td>2</td>\n",
       "    </tr>\n",
       "    <tr>\n",
       "      <th>459343603900054499</th>\n",
       "      <th>124</th>\n",
       "      <td>23</td>\n",
       "    </tr>\n",
       "    <tr>\n",
       "      <th>480303588128625709</th>\n",
       "      <th>129</th>\n",
       "      <td>7</td>\n",
       "    </tr>\n",
       "    <tr>\n",
       "      <th>488595597725452928</th>\n",
       "      <th>134</th>\n",
       "      <td>22</td>\n",
       "    </tr>\n",
       "    <tr>\n",
       "      <th>494665102618352182</th>\n",
       "      <th>136</th>\n",
       "      <td>3</td>\n",
       "    </tr>\n",
       "    <tr>\n",
       "      <th>504683474134873660</th>\n",
       "      <th>139</th>\n",
       "      <td>32</td>\n",
       "    </tr>\n",
       "    <tr>\n",
       "      <th>...</th>\n",
       "      <th>...</th>\n",
       "      <td>...</td>\n",
       "    </tr>\n",
       "    <tr>\n",
       "      <th>8566084026253457341</th>\n",
       "      <th>2524</th>\n",
       "      <td>1</td>\n",
       "    </tr>\n",
       "    <tr>\n",
       "      <th>8602354367696256050</th>\n",
       "      <th>2531</th>\n",
       "      <td>97</td>\n",
       "    </tr>\n",
       "    <tr>\n",
       "      <th>8640089135129800275</th>\n",
       "      <th>2538</th>\n",
       "      <td>3</td>\n",
       "    </tr>\n",
       "    <tr>\n",
       "      <th>8643085135941405909</th>\n",
       "      <th>2539</th>\n",
       "      <td>49</td>\n",
       "    </tr>\n",
       "    <tr>\n",
       "      <th>8661266842757511530</th>\n",
       "      <th>2544</th>\n",
       "      <td>70</td>\n",
       "    </tr>\n",
       "    <tr>\n",
       "      <th>8672822391941514676</th>\n",
       "      <th>2547</th>\n",
       "      <td>116</td>\n",
       "    </tr>\n",
       "    <tr>\n",
       "      <th>8673515434942506453</th>\n",
       "      <th>2548</th>\n",
       "      <td>11</td>\n",
       "    </tr>\n",
       "    <tr>\n",
       "      <th>8706168370741753408</th>\n",
       "      <th>2557</th>\n",
       "      <td>3</td>\n",
       "    </tr>\n",
       "    <tr>\n",
       "      <th>8710638879631398249</th>\n",
       "      <th>2558</th>\n",
       "      <td>8</td>\n",
       "    </tr>\n",
       "    <tr>\n",
       "      <th>8728665737913081141</th>\n",
       "      <th>2565</th>\n",
       "      <td>6</td>\n",
       "    </tr>\n",
       "    <tr>\n",
       "      <th>8883287668297216529</th>\n",
       "      <th>2606</th>\n",
       "      <td>52</td>\n",
       "    </tr>\n",
       "    <tr>\n",
       "      <th>8899453444658014220</th>\n",
       "      <th>2609</th>\n",
       "      <td>2</td>\n",
       "    </tr>\n",
       "    <tr>\n",
       "      <th>8937578591649216410</th>\n",
       "      <th>2623</th>\n",
       "      <td>15</td>\n",
       "    </tr>\n",
       "    <tr>\n",
       "      <th>8967506154058762731</th>\n",
       "      <th>2633</th>\n",
       "      <td>5</td>\n",
       "    </tr>\n",
       "    <tr>\n",
       "      <th>8973473453359405903</th>\n",
       "      <th>2634</th>\n",
       "      <td>4</td>\n",
       "    </tr>\n",
       "    <tr>\n",
       "      <th>9002180351832106538</th>\n",
       "      <th>2646</th>\n",
       "      <td>1</td>\n",
       "    </tr>\n",
       "    <tr>\n",
       "      <th>9018573045021340625</th>\n",
       "      <th>2650</th>\n",
       "      <td>1</td>\n",
       "    </tr>\n",
       "    <tr>\n",
       "      <th>9024042528120783723</th>\n",
       "      <th>2652</th>\n",
       "      <td>4</td>\n",
       "    </tr>\n",
       "    <tr>\n",
       "      <th>9032451231418041618</th>\n",
       "      <th>2658</th>\n",
       "      <td>1</td>\n",
       "    </tr>\n",
       "    <tr>\n",
       "      <th>9059833220393318080</th>\n",
       "      <th>2665</th>\n",
       "      <td>1</td>\n",
       "    </tr>\n",
       "    <tr>\n",
       "      <th>9111025210427137124</th>\n",
       "      <th>2683</th>\n",
       "      <td>4</td>\n",
       "    </tr>\n",
       "    <tr>\n",
       "      <th>9117639836254455881</th>\n",
       "      <th>2684</th>\n",
       "      <td>1</td>\n",
       "    </tr>\n",
       "    <tr>\n",
       "      <th>9119059940779445760</th>\n",
       "      <th>2685</th>\n",
       "      <td>1</td>\n",
       "    </tr>\n",
       "    <tr>\n",
       "      <th>9136098554478281281</th>\n",
       "      <th>2690</th>\n",
       "      <td>1</td>\n",
       "    </tr>\n",
       "    <tr>\n",
       "      <th>9145676857869803597</th>\n",
       "      <th>2694</th>\n",
       "      <td>4</td>\n",
       "    </tr>\n",
       "    <tr>\n",
       "      <th>9160750629782891877</th>\n",
       "      <th>2698</th>\n",
       "      <td>2</td>\n",
       "    </tr>\n",
       "    <tr>\n",
       "      <th>9194395523186691875</th>\n",
       "      <th>2708</th>\n",
       "      <td>50</td>\n",
       "    </tr>\n",
       "    <tr>\n",
       "      <th>9195863858643819478</th>\n",
       "      <th>2709</th>\n",
       "      <td>89</td>\n",
       "    </tr>\n",
       "    <tr>\n",
       "      <th>9204191418116207519</th>\n",
       "      <th>2711</th>\n",
       "      <td>20</td>\n",
       "    </tr>\n",
       "    <tr>\n",
       "      <th>9207942306348127687</th>\n",
       "      <th>2713</th>\n",
       "      <td>21</td>\n",
       "    </tr>\n",
       "  </tbody>\n",
       "</table>\n",
       "<p>477 rows × 1 columns</p>\n",
       "</div>"
      ],
      "text/plain": [
       "                           ref_hash\n",
       "device_id           index          \n",
       "5610335643679608    1            11\n",
       "17437441331211593   5             3\n",
       "61509282915612682   16            1\n",
       "67443465839184775   21            1\n",
       "107282684840551622  28            9\n",
       "157459470245260333  41           41\n",
       "160121067220545379  42            1\n",
       "160554803047968753  43           19\n",
       "176630767202084993  48            4\n",
       "183174899986188898  50            1\n",
       "200820115670092879  52            9\n",
       "252300740312136681  65            5\n",
       "256086065584233965  68           10\n",
       "259891827588493943  71            5\n",
       "260891103561313147  72            1\n",
       "307388789315223929  85            5\n",
       "309417754443446196  88          224\n",
       "360067477084488390  98            3\n",
       "364656448282328990  99            1\n",
       "381947835592833316  104          14\n",
       "393140577881729226  108          58\n",
       "394181128078904930  109          23\n",
       "401691147249727559  112           4\n",
       "411566167561219946  114           1\n",
       "432026705480919604  118           2\n",
       "459343603900054499  124          23\n",
       "480303588128625709  129           7\n",
       "488595597725452928  134          22\n",
       "494665102618352182  136           3\n",
       "504683474134873660  139          32\n",
       "...                             ...\n",
       "8566084026253457341 2524          1\n",
       "8602354367696256050 2531         97\n",
       "8640089135129800275 2538          3\n",
       "8643085135941405909 2539         49\n",
       "8661266842757511530 2544         70\n",
       "8672822391941514676 2547        116\n",
       "8673515434942506453 2548         11\n",
       "8706168370741753408 2557          3\n",
       "8710638879631398249 2558          8\n",
       "8728665737913081141 2565          6\n",
       "8883287668297216529 2606         52\n",
       "8899453444658014220 2609          2\n",
       "8937578591649216410 2623         15\n",
       "8967506154058762731 2633          5\n",
       "8973473453359405903 2634          4\n",
       "9002180351832106538 2646          1\n",
       "9018573045021340625 2650          1\n",
       "9024042528120783723 2652          4\n",
       "9032451231418041618 2658          1\n",
       "9059833220393318080 2665          1\n",
       "9111025210427137124 2683          4\n",
       "9117639836254455881 2684          1\n",
       "9119059940779445760 2685          1\n",
       "9136098554478281281 2690          1\n",
       "9145676857869803597 2694          4\n",
       "9160750629782891877 2698          2\n",
       "9194395523186691875 2708         50\n",
       "9195863858643819478 2709         89\n",
       "9204191418116207519 2711         20\n",
       "9207942306348127687 2713         21\n",
       "\n",
       "[477 rows x 1 columns]"
      ]
     },
     "execution_count": 127,
     "metadata": {},
     "output_type": "execute_result"
    }
   ],
   "source": [
    "auc_and_installs = auctions.loc[:,[\"date\",\"device_id\"]].merge(installs_to_join,left_on=\"device_id\",right_on=\"ref_hash\",how=\"inner\")\n",
    "auc_and_installs[\"diff\"] = (auc_and_installs[\"created\"] - auc_and_installs[\"date\"]) / np.timedelta64(1, 'h')\n",
    "auc_and_installs = auc_and_installs.loc[(auc_and_installs[\"diff\"] > 0) & (auc_and_installs[\"diff\"] < cant_horas_anteriores)]\n",
    "auc_and_installs = auc_and_installs.groupby([\"device_id\",\"index\"]).agg({\"ref_hash\":\"count\"})\n",
    "auc_and_installs.head()\n"
   ]
  },
  {
   "cell_type": "code",
   "execution_count": 137,
   "metadata": {},
   "outputs": [
    {
     "data": {
      "application/vnd.plotly.v1+json": {
       "config": {
        "linkText": "Export to plot.ly",
        "plotlyServerURL": "https://plot.ly",
        "showLink": false
       },
       "data": [
        {
         "type": "box",
         "uid": "12a5027f-ba7d-464b-9aad-768852ee9807",
         "y": [
          109,
          55,
          40,
          21,
          19,
          14,
          13,
          12,
          10,
          8,
          7,
          7,
          7,
          6,
          6,
          5,
          5,
          5,
          5,
          5,
          5,
          4,
          4,
          4,
          3,
          3,
          3,
          3,
          3,
          3,
          3,
          3,
          2,
          2,
          2,
          2,
          2,
          2,
          2,
          2,
          2,
          2,
          2,
          2,
          2,
          2,
          1,
          1,
          1,
          1,
          1,
          1,
          1,
          1,
          1,
          1,
          1,
          1,
          1,
          1,
          1,
          1,
          1,
          1,
          1,
          1,
          1,
          1,
          1,
          1,
          1,
          1,
          1,
          1,
          1,
          1,
          1,
          1,
          1,
          1,
          1,
          1,
          1,
          1,
          1,
          1,
          1,
          1,
          1,
          1,
          1,
          1,
          1,
          1,
          1
         ]
        }
       ],
       "layout": {}
      },
      "text/html": [
       "<div id=\"b06266b1-0e4c-4681-b17a-cf4ebe29113a\" style=\"height: 525px; width: 100%;\" class=\"plotly-graph-div\"></div><script type=\"text/javascript\">require([\"plotly\"], function(Plotly) { window.PLOTLYENV=window.PLOTLYENV || {};window.PLOTLYENV.BASE_URL=\"https://plot.ly\";\n",
       "if (document.getElementById(\"b06266b1-0e4c-4681-b17a-cf4ebe29113a\")) {\n",
       "    Plotly.newPlot(\"b06266b1-0e4c-4681-b17a-cf4ebe29113a\", [{\"y\": [109, 55, 40, 21, 19, 14, 13, 12, 10, 8, 7, 7, 7, 6, 6, 5, 5, 5, 5, 5, 5, 4, 4, 4, 3, 3, 3, 3, 3, 3, 3, 3, 2, 2, 2, 2, 2, 2, 2, 2, 2, 2, 2, 2, 2, 2, 1, 1, 1, 1, 1, 1, 1, 1, 1, 1, 1, 1, 1, 1, 1, 1, 1, 1, 1, 1, 1, 1, 1, 1, 1, 1, 1, 1, 1, 1, 1, 1, 1, 1, 1, 1, 1, 1, 1, 1, 1, 1, 1, 1, 1, 1, 1, 1, 1], \"type\": \"box\", \"uid\": \"29fdcc6b-24d9-4008-b33a-9b666e3d073e\"}], {}, {\"showLink\": false, \"linkText\": \"Export to plot.ly\", \"plotlyServerURL\": \"https://plot.ly\"}); \n",
       "}\n",
       "});</script><script type=\"text/javascript\">window.addEventListener(\"resize\", function(){if (document.getElementById(\"b06266b1-0e4c-4681-b17a-cf4ebe29113a\")) {window._Plotly.Plots.resize(document.getElementById(\"b06266b1-0e4c-4681-b17a-cf4ebe29113a\"));};})</script>"
      ],
      "text/vnd.plotly.v1+html": [
       "<div id=\"b06266b1-0e4c-4681-b17a-cf4ebe29113a\" style=\"height: 525px; width: 100%;\" class=\"plotly-graph-div\"></div><script type=\"text/javascript\">require([\"plotly\"], function(Plotly) { window.PLOTLYENV=window.PLOTLYENV || {};window.PLOTLYENV.BASE_URL=\"https://plot.ly\";\n",
       "if (document.getElementById(\"b06266b1-0e4c-4681-b17a-cf4ebe29113a\")) {\n",
       "    Plotly.newPlot(\"b06266b1-0e4c-4681-b17a-cf4ebe29113a\", [{\"y\": [109, 55, 40, 21, 19, 14, 13, 12, 10, 8, 7, 7, 7, 6, 6, 5, 5, 5, 5, 5, 5, 4, 4, 4, 3, 3, 3, 3, 3, 3, 3, 3, 2, 2, 2, 2, 2, 2, 2, 2, 2, 2, 2, 2, 2, 2, 1, 1, 1, 1, 1, 1, 1, 1, 1, 1, 1, 1, 1, 1, 1, 1, 1, 1, 1, 1, 1, 1, 1, 1, 1, 1, 1, 1, 1, 1, 1, 1, 1, 1, 1, 1, 1, 1, 1, 1, 1, 1, 1, 1, 1, 1, 1, 1, 1], \"type\": \"box\", \"uid\": \"29fdcc6b-24d9-4008-b33a-9b666e3d073e\"}], {}, {\"showLink\": false, \"linkText\": \"Export to plot.ly\", \"plotlyServerURL\": \"https://plot.ly\"}); \n",
       "}\n",
       "});</script><script type=\"text/javascript\">window.addEventListener(\"resize\", function(){if (document.getElementById(\"b06266b1-0e4c-4681-b17a-cf4ebe29113a\")) {window._Plotly.Plots.resize(document.getElementById(\"b06266b1-0e4c-4681-b17a-cf4ebe29113a\"));};})</script>"
      ]
     },
     "metadata": {},
     "output_type": "display_data"
    }
   ],
   "source": [
    "\n",
    "data = [go.Box(\n",
    "    y=list(auc_and_installs[\"ref_hash\"].value_counts()),\n",
    ")]\n",
    "py.iplot(data)\n"
   ]
  },
  {
   "cell_type": "code",
   "execution_count": null,
   "metadata": {},
   "outputs": [],
   "source": []
  },
  {
   "cell_type": "code",
   "execution_count": null,
   "metadata": {},
   "outputs": [],
   "source": []
  },
  {
   "cell_type": "code",
   "execution_count": null,
   "metadata": {},
   "outputs": [],
   "source": []
  },
  {
   "cell_type": "code",
   "execution_count": null,
   "metadata": {},
   "outputs": [],
   "source": []
  },
  {
   "cell_type": "code",
   "execution_count": 135,
   "metadata": {},
   "outputs": [
    {
     "data": {
      "application/vnd.plotly.v1+json": {
       "config": {
        "linkText": "Export to plot.ly",
        "plotlyServerURL": "https://plot.ly",
        "showLink": false
       },
       "data": [
        {
         "domain": {
          "column": 0
         },
         "hole": 0.6,
         "hoverinfo": "label+percent+name",
         "labels": [
          "US",
          "China"
         ],
         "name": "GHG Emissions",
         "type": "pie",
         "uid": "713956e5-a555-4555-bfca-6457cb21cbf1",
         "values": [
          16,
          15
         ]
        },
        {
         "domain": {
          "column": 1
         },
         "hole": 0.6,
         "hoverinfo": "label+percent+name",
         "labels": [
          "2",
          "3"
         ],
         "name": "CO2 Emissions",
         "text": [
          "CO2"
         ],
         "textposition": "inside",
         "type": "pie",
         "uid": "0ad7e9f0-684e-452b-98b8-61acf875d905",
         "values": [
          27,
          11
         ]
        }
       ],
       "layout": {
        "annotations": [
         {
          "font": {
           "size": 20
          },
          "showarrow": false,
          "text": "¿Instalo <br> mas de <br>una vez?",
          "x": 0.2,
          "y": 0.5
         },
         {
          "font": {
           "size": 12
          },
          "showarrow": false,
          "text": "Instalo mas de una applicacion",
          "x": 0.8,
          "y": 1
         }
        ],
        "grid": {
         "columns": 2,
         "rows": 1
        },
        "title": {
         "text": "Global Emissions 1990-2011"
        }
       }
      },
      "text/html": [
       "<div id=\"ad48718a-d843-48a7-8855-925b0530c128\" style=\"height: 525px; width: 100%;\" class=\"plotly-graph-div\"></div><script type=\"text/javascript\">require([\"plotly\"], function(Plotly) { window.PLOTLYENV=window.PLOTLYENV || {};window.PLOTLYENV.BASE_URL=\"https://plot.ly\";\n",
       "if (document.getElementById(\"ad48718a-d843-48a7-8855-925b0530c128\")) {\n",
       "    Plotly.newPlot(\"ad48718a-d843-48a7-8855-925b0530c128\", [{\"domain\": {\"column\": 0}, \"hole\": 0.6, \"hoverinfo\": \"label+percent+name\", \"labels\": [\"US\", \"China\"], \"name\": \"GHG Emissions\", \"values\": [16, 15], \"type\": \"pie\", \"uid\": \"489562c5-96b2-4bd4-ab6e-1a39b9150c60\"}, {\"domain\": {\"column\": 1}, \"hole\": 0.6, \"hoverinfo\": \"label+percent+name\", \"labels\": [\"2\", \"3\"], \"name\": \"CO2 Emissions\", \"text\": [\"CO2\"], \"textposition\": \"inside\", \"values\": [27, 11], \"type\": \"pie\", \"uid\": \"b0e48341-8136-45f3-b2cf-3e9375ee7d6d\"}], {\"annotations\": [{\"font\": {\"size\": 20}, \"showarrow\": false, \"text\": \"\\u00bfInstalo <br> mas de <br>una vez?\", \"x\": 0.2, \"y\": 0.5}, {\"font\": {\"size\": 12}, \"showarrow\": false, \"text\": \"Instalo mas de una applicacion\", \"x\": 0.8, \"y\": 1}], \"grid\": {\"columns\": 2, \"rows\": 1}, \"title\": {\"text\": \"Global Emissions 1990-2011\"}}, {\"showLink\": false, \"linkText\": \"Export to plot.ly\", \"plotlyServerURL\": \"https://plot.ly\"}); \n",
       "}\n",
       "});</script><script type=\"text/javascript\">window.addEventListener(\"resize\", function(){if (document.getElementById(\"ad48718a-d843-48a7-8855-925b0530c128\")) {window._Plotly.Plots.resize(document.getElementById(\"ad48718a-d843-48a7-8855-925b0530c128\"));};})</script>"
      ],
      "text/vnd.plotly.v1+html": [
       "<div id=\"ad48718a-d843-48a7-8855-925b0530c128\" style=\"height: 525px; width: 100%;\" class=\"plotly-graph-div\"></div><script type=\"text/javascript\">require([\"plotly\"], function(Plotly) { window.PLOTLYENV=window.PLOTLYENV || {};window.PLOTLYENV.BASE_URL=\"https://plot.ly\";\n",
       "if (document.getElementById(\"ad48718a-d843-48a7-8855-925b0530c128\")) {\n",
       "    Plotly.newPlot(\"ad48718a-d843-48a7-8855-925b0530c128\", [{\"domain\": {\"column\": 0}, \"hole\": 0.6, \"hoverinfo\": \"label+percent+name\", \"labels\": [\"US\", \"China\"], \"name\": \"GHG Emissions\", \"values\": [16, 15], \"type\": \"pie\", \"uid\": \"489562c5-96b2-4bd4-ab6e-1a39b9150c60\"}, {\"domain\": {\"column\": 1}, \"hole\": 0.6, \"hoverinfo\": \"label+percent+name\", \"labels\": [\"2\", \"3\"], \"name\": \"CO2 Emissions\", \"text\": [\"CO2\"], \"textposition\": \"inside\", \"values\": [27, 11], \"type\": \"pie\", \"uid\": \"b0e48341-8136-45f3-b2cf-3e9375ee7d6d\"}], {\"annotations\": [{\"font\": {\"size\": 20}, \"showarrow\": false, \"text\": \"\\u00bfInstalo <br> mas de <br>una vez?\", \"x\": 0.2, \"y\": 0.5}, {\"font\": {\"size\": 12}, \"showarrow\": false, \"text\": \"Instalo mas de una applicacion\", \"x\": 0.8, \"y\": 1}], \"grid\": {\"columns\": 2, \"rows\": 1}, \"title\": {\"text\": \"Global Emissions 1990-2011\"}}, {\"showLink\": false, \"linkText\": \"Export to plot.ly\", \"plotlyServerURL\": \"https://plot.ly\"}); \n",
       "}\n",
       "});</script><script type=\"text/javascript\">window.addEventListener(\"resize\", function(){if (document.getElementById(\"ad48718a-d843-48a7-8855-925b0530c128\")) {window._Plotly.Plots.resize(document.getElementById(\"ad48718a-d843-48a7-8855-925b0530c128\"));};})</script>"
      ]
     },
     "metadata": {},
     "output_type": "display_data"
    }
   ],
   "source": [
    "fig = {\n",
    "  \"data\": [\n",
    "    {\n",
    "      \"values\": [16, 15,],\n",
    "      \"labels\": [\n",
    "        \"US\",\n",
    "        \"China\"\n",
    "      ],\n",
    "      \"domain\": {\"column\": 0},\n",
    "      \"name\": \"GHG Emissions\",\n",
    "      \"hoverinfo\":\"label+percent+name\",\n",
    "      \"hole\": .6,\n",
    "      \"type\": \"pie\"\n",
    "    },\n",
    "    {\n",
    "      \"values\": [27, 11],\n",
    "      \"labels\": [\n",
    "        \"2\",\n",
    "        \"3\",\n",
    "      ],\n",
    "      \"text\":[\"CO2\"],\n",
    "      \"textposition\":\"inside\",\n",
    "      \"domain\": {\"column\": 1},\n",
    "      \"name\": \"CO2 Emissions\",\n",
    "      \"hoverinfo\":\"label+percent+name\",\n",
    "      \"hole\": .6,\n",
    "      \"type\": \"pie\"\n",
    "    }],\n",
    "  \"layout\": {\n",
    "        \"title\":\"Global Emissions 1990-2011\",\n",
    "        \"grid\": {\"rows\": 1, \"columns\": 2},\n",
    "        \"annotations\": [\n",
    "            {\n",
    "                \"font\": {\n",
    "                    \"size\": 20\n",
    "                },\n",
    "                \"showarrow\": False,\n",
    "                \"text\": \"¿Instalo <br> mas de <br>una vez?\",\n",
    "                \"x\": 0.2,\n",
    "                \"y\": 0.5\n",
    "            },\n",
    "            {\n",
    "                \"font\": {\n",
    "                    \"size\": 12\n",
    "                },\n",
    "                \"showarrow\": False,\n",
    "                \"text\": \"Instalo mas de una applicacion\",\n",
    "                \"x\": 0.8,\n",
    "                \"y\": 1\n",
    "            }\n",
    "        ]\n",
    "    }\n",
    "}\n",
    "py.offline.iplot(fig)"
   ]
  },
  {
   "cell_type": "code",
   "execution_count": null,
   "metadata": {},
   "outputs": [],
   "source": []
  }
 ],
 "metadata": {
  "kernelspec": {
   "display_name": "Python 3",
   "language": "python",
   "name": "python3"
  },
  "language_info": {
   "codemirror_mode": {
    "name": "ipython",
    "version": 3
   },
   "file_extension": ".py",
   "mimetype": "text/x-python",
   "name": "python",
   "nbconvert_exporter": "python",
   "pygments_lexer": "ipython3",
   "version": "3.7.1"
  }
 },
 "nbformat": 4,
 "nbformat_minor": 2
}
